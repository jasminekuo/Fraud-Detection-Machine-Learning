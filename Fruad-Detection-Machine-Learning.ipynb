{
  "nbformat": 4,
  "nbformat_minor": 0,
  "metadata": {
    "colab": {
      "provenance": []
    },
    "kernelspec": {
      "name": "python3",
      "display_name": "Python 3"
    },
    "language_info": {
      "name": "python"
    }
  },
  "cells": [
    {
      "cell_type": "markdown",
      "source": [
        "# Advancing Fraud Detection: Machine Learning in Digital Transactions\n",
        "\n",
        "## Project Aim\n",
        "\n",
        "Our mission in this project is to uncover the nuanced patterns buried within credit card transaction data, thereby enabling effective differentiation between legitimate and fraudulent activities. By leveraging data science and machine learning, we seek to enhance security protocols and mitigate the financial vulnerabilities facing businesses today.\n",
        "\n",
        "## Introduction\n",
        "\n",
        "In an era where digital financial transactions are increasingly commonplace, the complexity of financial fraud intensifies, pushing the boundaries of traditional security measures. This project delves into a richly simulated dataset of credit card transactions, provided by Capital One, designed to reflect the authentic dynamics of customer interactions. Our objective is to develop a sophisticated tool that not only detects but also predicts fraudulent behaviors, thereby fostering a safer transaction environment.\n",
        "\n",
        "## About the Dataset\n",
        "\n",
        "We are engaging with a carefully crafted dataset by Capital One, which mirrors real-world transactional dynamics without compromising personal identities. This dataset serves as a testing ground where hypothetical customer behaviors intersect with potential fraud scenarios.\n",
        "\n",
        "- **Dataset Composition**: The dataset comprises 786,363 transactions, each described by 29 distinct attributes.\n",
        "- **Feature Overview**: Spanning transaction amounts, merchant details, dates, and types, along with crucial security attributes like CVV matches, this dataset offers a rich foundation for our analysis.\n",
        "- **Analytical Challenges**: Despite its simulated nature, the dataset poses real-world challenges such as substantial class imbalances and missing data, which set a realistic backdrop for our fraud detection efforts.\n",
        "\n",
        "## Analytical Objectives\n",
        "\n",
        "1. **Data Preparation and Preprocessing**: Our first step involves rigorous data cleaning and preparation. We'll address duplicate transactions, tackle missing values, format date columns, and enhance our dataset through feature engineering and categorical encoding, preparing the ground for insightful analysis.\n",
        "2. **Model Development and Evaluation**: Our exploration will extend to experimenting with various machine learning models and resampling strategies. We aim to identify the most effective model through comprehensive testing and validation, striving for a tool that excels in spotting fraudulent transactions accurately and reliably.\n",
        "3. **Insights and Strategic Recommendations**: Finally, we will translate our analytical findings into actionable insights and strategic recommendations. Our goal is to bolster fraud detection mechanisms, enhancing the security and integrity of financial transactions.\n",
        "\n",
        "By the end of this project, we aspire to deliver a predictive solution that not only identifies fraud with high precision but also sets a new standard for fraud detection strategies, safeguarding the trust and safety of digital financial activities."
      ],
      "metadata": {
        "id": "VfFzZbdvINv2"
      }
    },
    {
      "cell_type": "markdown",
      "source": [
        "# Part I: Data Preparation and Preprocessing\n",
        "\n",
        "Welcome to our exploration of credit card transaction data. In this initial phase, we lay the groundwork by carefully loading, examining, and refining our dataset. This stage is crucial, not just for ensuring the cleanliness of our data, but for setting the stage for insightful analyses that follow. We'll unpack JSON files, sift through transaction types, and organize our findings into a structured format, ready for deeper exploration."
      ],
      "metadata": {
        "id": "-7tLujl7gY9f"
      }
    },
    {
      "cell_type": "markdown",
      "source": [
        "## Import Necessary Libraries\n"
      ],
      "metadata": {
        "id": "H-t7vjEnhu1e"
      }
    },
    {
      "cell_type": "code",
      "source": [
        "import pandas as pd\n",
        "import numpy as np\n",
        "import json\n",
        "from sklearn.preprocessing import StandardScaler"
      ],
      "metadata": {
        "id": "HKUc7sRCghey"
      },
      "execution_count": 1,
      "outputs": []
    },
    {
      "cell_type": "markdown",
      "source": [
        "## Load and Prepare the Data\n",
        "\n",
        "Let's dive into the data. We'll start by fetching our dataset, which is conveniently provided in a zipped JSON format, and take our first peek at its contents:"
      ],
      "metadata": {
        "id": "S055VlRdhEJh"
      }
    },
    {
      "cell_type": "code",
      "source": [
        "# Download and Unzip the Transaction Data\n",
        "!wget -O transactions.zip https://raw.githubusercontent.com/CapitalOneRecruiting/DS/master/transactions.zip\n",
        "!unzip transactions.zip"
      ],
      "metadata": {
        "colab": {
          "base_uri": "https://localhost:8080/"
        },
        "id": "yyl_iT5Yg44Z",
        "outputId": "114112c6-8fa6-445a-d5d2-97cf3d99153e"
      },
      "execution_count": 2,
      "outputs": [
        {
          "output_type": "stream",
          "name": "stdout",
          "text": [
            "--2024-06-04 06:06:34--  https://raw.githubusercontent.com/CapitalOneRecruiting/DS/master/transactions.zip\n",
            "Resolving raw.githubusercontent.com (raw.githubusercontent.com)... 185.199.108.133, 185.199.109.133, 185.199.110.133, ...\n",
            "Connecting to raw.githubusercontent.com (raw.githubusercontent.com)|185.199.108.133|:443... connected.\n",
            "HTTP request sent, awaiting response... 200 OK\n",
            "Length: 30522086 (29M) [application/zip]\n",
            "Saving to: ‘transactions.zip’\n",
            "\n",
            "transactions.zip    100%[===================>]  29.11M   164MB/s    in 0.2s    \n",
            "\n",
            "2024-06-04 06:06:35 (164 MB/s) - ‘transactions.zip’ saved [30522086/30522086]\n",
            "\n",
            "Archive:  transactions.zip\n",
            "  inflating: transactions.txt        \n"
          ]
        }
      ]
    },
    {
      "cell_type": "code",
      "source": [
        "# Read the JSON Data\n",
        "data_list = []\n",
        "with open('transactions.txt', 'r') as file:\n",
        "    for line in file:\n",
        "        json_dict = json.loads(line)\n",
        "        data_list.append(json_dict)\n",
        "df = pd.DataFrame(data_list)\n",
        "df.head()"
      ],
      "metadata": {
        "id": "GK5GnkRVhMSy",
        "colab": {
          "base_uri": "https://localhost:8080/",
          "height": 273
        },
        "outputId": "6e59be7a-29d7-4ac9-b112-7e5644ca09e0"
      },
      "execution_count": 3,
      "outputs": [
        {
          "output_type": "execute_result",
          "data": {
            "text/plain": [
              "  accountNumber customerId  creditLimit  availableMoney  transactionDateTime  \\\n",
              "0     737265056  737265056       5000.0          5000.0  2016-08-13T14:27:32   \n",
              "1     737265056  737265056       5000.0          5000.0  2016-10-11T05:05:54   \n",
              "2     737265056  737265056       5000.0          5000.0  2016-11-08T09:18:39   \n",
              "3     737265056  737265056       5000.0          5000.0  2016-12-10T02:14:50   \n",
              "4     830329091  830329091       5000.0          5000.0  2016-03-24T21:04:46   \n",
              "\n",
              "   transactionAmount         merchantName acqCountry merchantCountryCode  \\\n",
              "0              98.55                 Uber         US                  US   \n",
              "1              74.51          AMC #191138         US                  US   \n",
              "2               7.47           Play Store         US                  US   \n",
              "3               7.47           Play Store         US                  US   \n",
              "4              71.18  Tim Hortons #947751         US                  US   \n",
              "\n",
              "  posEntryMode  ... echoBuffer currentBalance merchantCity merchantState  \\\n",
              "0           02  ...                       0.0                              \n",
              "1           09  ...                       0.0                              \n",
              "2           09  ...                       0.0                              \n",
              "3           09  ...                       0.0                              \n",
              "4           02  ...                       0.0                              \n",
              "\n",
              "  merchantZip cardPresent posOnPremises recurringAuthInd  \\\n",
              "0                   False                                  \n",
              "1                    True                                  \n",
              "2                   False                                  \n",
              "3                   False                                  \n",
              "4                    True                                  \n",
              "\n",
              "  expirationDateKeyInMatch isFraud  \n",
              "0                    False   False  \n",
              "1                    False   False  \n",
              "2                    False   False  \n",
              "3                    False   False  \n",
              "4                    False   False  \n",
              "\n",
              "[5 rows x 29 columns]"
            ],
            "text/html": [
              "\n",
              "  <div id=\"df-dd077fbd-930c-4664-8734-5fe28cbd72c3\" class=\"colab-df-container\">\n",
              "    <div>\n",
              "<style scoped>\n",
              "    .dataframe tbody tr th:only-of-type {\n",
              "        vertical-align: middle;\n",
              "    }\n",
              "\n",
              "    .dataframe tbody tr th {\n",
              "        vertical-align: top;\n",
              "    }\n",
              "\n",
              "    .dataframe thead th {\n",
              "        text-align: right;\n",
              "    }\n",
              "</style>\n",
              "<table border=\"1\" class=\"dataframe\">\n",
              "  <thead>\n",
              "    <tr style=\"text-align: right;\">\n",
              "      <th></th>\n",
              "      <th>accountNumber</th>\n",
              "      <th>customerId</th>\n",
              "      <th>creditLimit</th>\n",
              "      <th>availableMoney</th>\n",
              "      <th>transactionDateTime</th>\n",
              "      <th>transactionAmount</th>\n",
              "      <th>merchantName</th>\n",
              "      <th>acqCountry</th>\n",
              "      <th>merchantCountryCode</th>\n",
              "      <th>posEntryMode</th>\n",
              "      <th>...</th>\n",
              "      <th>echoBuffer</th>\n",
              "      <th>currentBalance</th>\n",
              "      <th>merchantCity</th>\n",
              "      <th>merchantState</th>\n",
              "      <th>merchantZip</th>\n",
              "      <th>cardPresent</th>\n",
              "      <th>posOnPremises</th>\n",
              "      <th>recurringAuthInd</th>\n",
              "      <th>expirationDateKeyInMatch</th>\n",
              "      <th>isFraud</th>\n",
              "    </tr>\n",
              "  </thead>\n",
              "  <tbody>\n",
              "    <tr>\n",
              "      <th>0</th>\n",
              "      <td>737265056</td>\n",
              "      <td>737265056</td>\n",
              "      <td>5000.0</td>\n",
              "      <td>5000.0</td>\n",
              "      <td>2016-08-13T14:27:32</td>\n",
              "      <td>98.55</td>\n",
              "      <td>Uber</td>\n",
              "      <td>US</td>\n",
              "      <td>US</td>\n",
              "      <td>02</td>\n",
              "      <td>...</td>\n",
              "      <td></td>\n",
              "      <td>0.0</td>\n",
              "      <td></td>\n",
              "      <td></td>\n",
              "      <td></td>\n",
              "      <td>False</td>\n",
              "      <td></td>\n",
              "      <td></td>\n",
              "      <td>False</td>\n",
              "      <td>False</td>\n",
              "    </tr>\n",
              "    <tr>\n",
              "      <th>1</th>\n",
              "      <td>737265056</td>\n",
              "      <td>737265056</td>\n",
              "      <td>5000.0</td>\n",
              "      <td>5000.0</td>\n",
              "      <td>2016-10-11T05:05:54</td>\n",
              "      <td>74.51</td>\n",
              "      <td>AMC #191138</td>\n",
              "      <td>US</td>\n",
              "      <td>US</td>\n",
              "      <td>09</td>\n",
              "      <td>...</td>\n",
              "      <td></td>\n",
              "      <td>0.0</td>\n",
              "      <td></td>\n",
              "      <td></td>\n",
              "      <td></td>\n",
              "      <td>True</td>\n",
              "      <td></td>\n",
              "      <td></td>\n",
              "      <td>False</td>\n",
              "      <td>False</td>\n",
              "    </tr>\n",
              "    <tr>\n",
              "      <th>2</th>\n",
              "      <td>737265056</td>\n",
              "      <td>737265056</td>\n",
              "      <td>5000.0</td>\n",
              "      <td>5000.0</td>\n",
              "      <td>2016-11-08T09:18:39</td>\n",
              "      <td>7.47</td>\n",
              "      <td>Play Store</td>\n",
              "      <td>US</td>\n",
              "      <td>US</td>\n",
              "      <td>09</td>\n",
              "      <td>...</td>\n",
              "      <td></td>\n",
              "      <td>0.0</td>\n",
              "      <td></td>\n",
              "      <td></td>\n",
              "      <td></td>\n",
              "      <td>False</td>\n",
              "      <td></td>\n",
              "      <td></td>\n",
              "      <td>False</td>\n",
              "      <td>False</td>\n",
              "    </tr>\n",
              "    <tr>\n",
              "      <th>3</th>\n",
              "      <td>737265056</td>\n",
              "      <td>737265056</td>\n",
              "      <td>5000.0</td>\n",
              "      <td>5000.0</td>\n",
              "      <td>2016-12-10T02:14:50</td>\n",
              "      <td>7.47</td>\n",
              "      <td>Play Store</td>\n",
              "      <td>US</td>\n",
              "      <td>US</td>\n",
              "      <td>09</td>\n",
              "      <td>...</td>\n",
              "      <td></td>\n",
              "      <td>0.0</td>\n",
              "      <td></td>\n",
              "      <td></td>\n",
              "      <td></td>\n",
              "      <td>False</td>\n",
              "      <td></td>\n",
              "      <td></td>\n",
              "      <td>False</td>\n",
              "      <td>False</td>\n",
              "    </tr>\n",
              "    <tr>\n",
              "      <th>4</th>\n",
              "      <td>830329091</td>\n",
              "      <td>830329091</td>\n",
              "      <td>5000.0</td>\n",
              "      <td>5000.0</td>\n",
              "      <td>2016-03-24T21:04:46</td>\n",
              "      <td>71.18</td>\n",
              "      <td>Tim Hortons #947751</td>\n",
              "      <td>US</td>\n",
              "      <td>US</td>\n",
              "      <td>02</td>\n",
              "      <td>...</td>\n",
              "      <td></td>\n",
              "      <td>0.0</td>\n",
              "      <td></td>\n",
              "      <td></td>\n",
              "      <td></td>\n",
              "      <td>True</td>\n",
              "      <td></td>\n",
              "      <td></td>\n",
              "      <td>False</td>\n",
              "      <td>False</td>\n",
              "    </tr>\n",
              "  </tbody>\n",
              "</table>\n",
              "<p>5 rows × 29 columns</p>\n",
              "</div>\n",
              "    <div class=\"colab-df-buttons\">\n",
              "\n",
              "  <div class=\"colab-df-container\">\n",
              "    <button class=\"colab-df-convert\" onclick=\"convertToInteractive('df-dd077fbd-930c-4664-8734-5fe28cbd72c3')\"\n",
              "            title=\"Convert this dataframe to an interactive table.\"\n",
              "            style=\"display:none;\">\n",
              "\n",
              "  <svg xmlns=\"http://www.w3.org/2000/svg\" height=\"24px\" viewBox=\"0 -960 960 960\">\n",
              "    <path d=\"M120-120v-720h720v720H120Zm60-500h600v-160H180v160Zm220 220h160v-160H400v160Zm0 220h160v-160H400v160ZM180-400h160v-160H180v160Zm440 0h160v-160H620v160ZM180-180h160v-160H180v160Zm440 0h160v-160H620v160Z\"/>\n",
              "  </svg>\n",
              "    </button>\n",
              "\n",
              "  <style>\n",
              "    .colab-df-container {\n",
              "      display:flex;\n",
              "      gap: 12px;\n",
              "    }\n",
              "\n",
              "    .colab-df-convert {\n",
              "      background-color: #E8F0FE;\n",
              "      border: none;\n",
              "      border-radius: 50%;\n",
              "      cursor: pointer;\n",
              "      display: none;\n",
              "      fill: #1967D2;\n",
              "      height: 32px;\n",
              "      padding: 0 0 0 0;\n",
              "      width: 32px;\n",
              "    }\n",
              "\n",
              "    .colab-df-convert:hover {\n",
              "      background-color: #E2EBFA;\n",
              "      box-shadow: 0px 1px 2px rgba(60, 64, 67, 0.3), 0px 1px 3px 1px rgba(60, 64, 67, 0.15);\n",
              "      fill: #174EA6;\n",
              "    }\n",
              "\n",
              "    .colab-df-buttons div {\n",
              "      margin-bottom: 4px;\n",
              "    }\n",
              "\n",
              "    [theme=dark] .colab-df-convert {\n",
              "      background-color: #3B4455;\n",
              "      fill: #D2E3FC;\n",
              "    }\n",
              "\n",
              "    [theme=dark] .colab-df-convert:hover {\n",
              "      background-color: #434B5C;\n",
              "      box-shadow: 0px 1px 3px 1px rgba(0, 0, 0, 0.15);\n",
              "      filter: drop-shadow(0px 1px 2px rgba(0, 0, 0, 0.3));\n",
              "      fill: #FFFFFF;\n",
              "    }\n",
              "  </style>\n",
              "\n",
              "    <script>\n",
              "      const buttonEl =\n",
              "        document.querySelector('#df-dd077fbd-930c-4664-8734-5fe28cbd72c3 button.colab-df-convert');\n",
              "      buttonEl.style.display =\n",
              "        google.colab.kernel.accessAllowed ? 'block' : 'none';\n",
              "\n",
              "      async function convertToInteractive(key) {\n",
              "        const element = document.querySelector('#df-dd077fbd-930c-4664-8734-5fe28cbd72c3');\n",
              "        const dataTable =\n",
              "          await google.colab.kernel.invokeFunction('convertToInteractive',\n",
              "                                                    [key], {});\n",
              "        if (!dataTable) return;\n",
              "\n",
              "        const docLinkHtml = 'Like what you see? Visit the ' +\n",
              "          '<a target=\"_blank\" href=https://colab.research.google.com/notebooks/data_table.ipynb>data table notebook</a>'\n",
              "          + ' to learn more about interactive tables.';\n",
              "        element.innerHTML = '';\n",
              "        dataTable['output_type'] = 'display_data';\n",
              "        await google.colab.output.renderOutput(dataTable, element);\n",
              "        const docLink = document.createElement('div');\n",
              "        docLink.innerHTML = docLinkHtml;\n",
              "        element.appendChild(docLink);\n",
              "      }\n",
              "    </script>\n",
              "  </div>\n",
              "\n",
              "\n",
              "<div id=\"df-59c58ad3-c365-485c-b44a-405ce5942065\">\n",
              "  <button class=\"colab-df-quickchart\" onclick=\"quickchart('df-59c58ad3-c365-485c-b44a-405ce5942065')\"\n",
              "            title=\"Suggest charts\"\n",
              "            style=\"display:none;\">\n",
              "\n",
              "<svg xmlns=\"http://www.w3.org/2000/svg\" height=\"24px\"viewBox=\"0 0 24 24\"\n",
              "     width=\"24px\">\n",
              "    <g>\n",
              "        <path d=\"M19 3H5c-1.1 0-2 .9-2 2v14c0 1.1.9 2 2 2h14c1.1 0 2-.9 2-2V5c0-1.1-.9-2-2-2zM9 17H7v-7h2v7zm4 0h-2V7h2v10zm4 0h-2v-4h2v4z\"/>\n",
              "    </g>\n",
              "</svg>\n",
              "  </button>\n",
              "\n",
              "<style>\n",
              "  .colab-df-quickchart {\n",
              "      --bg-color: #E8F0FE;\n",
              "      --fill-color: #1967D2;\n",
              "      --hover-bg-color: #E2EBFA;\n",
              "      --hover-fill-color: #174EA6;\n",
              "      --disabled-fill-color: #AAA;\n",
              "      --disabled-bg-color: #DDD;\n",
              "  }\n",
              "\n",
              "  [theme=dark] .colab-df-quickchart {\n",
              "      --bg-color: #3B4455;\n",
              "      --fill-color: #D2E3FC;\n",
              "      --hover-bg-color: #434B5C;\n",
              "      --hover-fill-color: #FFFFFF;\n",
              "      --disabled-bg-color: #3B4455;\n",
              "      --disabled-fill-color: #666;\n",
              "  }\n",
              "\n",
              "  .colab-df-quickchart {\n",
              "    background-color: var(--bg-color);\n",
              "    border: none;\n",
              "    border-radius: 50%;\n",
              "    cursor: pointer;\n",
              "    display: none;\n",
              "    fill: var(--fill-color);\n",
              "    height: 32px;\n",
              "    padding: 0;\n",
              "    width: 32px;\n",
              "  }\n",
              "\n",
              "  .colab-df-quickchart:hover {\n",
              "    background-color: var(--hover-bg-color);\n",
              "    box-shadow: 0 1px 2px rgba(60, 64, 67, 0.3), 0 1px 3px 1px rgba(60, 64, 67, 0.15);\n",
              "    fill: var(--button-hover-fill-color);\n",
              "  }\n",
              "\n",
              "  .colab-df-quickchart-complete:disabled,\n",
              "  .colab-df-quickchart-complete:disabled:hover {\n",
              "    background-color: var(--disabled-bg-color);\n",
              "    fill: var(--disabled-fill-color);\n",
              "    box-shadow: none;\n",
              "  }\n",
              "\n",
              "  .colab-df-spinner {\n",
              "    border: 2px solid var(--fill-color);\n",
              "    border-color: transparent;\n",
              "    border-bottom-color: var(--fill-color);\n",
              "    animation:\n",
              "      spin 1s steps(1) infinite;\n",
              "  }\n",
              "\n",
              "  @keyframes spin {\n",
              "    0% {\n",
              "      border-color: transparent;\n",
              "      border-bottom-color: var(--fill-color);\n",
              "      border-left-color: var(--fill-color);\n",
              "    }\n",
              "    20% {\n",
              "      border-color: transparent;\n",
              "      border-left-color: var(--fill-color);\n",
              "      border-top-color: var(--fill-color);\n",
              "    }\n",
              "    30% {\n",
              "      border-color: transparent;\n",
              "      border-left-color: var(--fill-color);\n",
              "      border-top-color: var(--fill-color);\n",
              "      border-right-color: var(--fill-color);\n",
              "    }\n",
              "    40% {\n",
              "      border-color: transparent;\n",
              "      border-right-color: var(--fill-color);\n",
              "      border-top-color: var(--fill-color);\n",
              "    }\n",
              "    60% {\n",
              "      border-color: transparent;\n",
              "      border-right-color: var(--fill-color);\n",
              "    }\n",
              "    80% {\n",
              "      border-color: transparent;\n",
              "      border-right-color: var(--fill-color);\n",
              "      border-bottom-color: var(--fill-color);\n",
              "    }\n",
              "    90% {\n",
              "      border-color: transparent;\n",
              "      border-bottom-color: var(--fill-color);\n",
              "    }\n",
              "  }\n",
              "</style>\n",
              "\n",
              "  <script>\n",
              "    async function quickchart(key) {\n",
              "      const quickchartButtonEl =\n",
              "        document.querySelector('#' + key + ' button');\n",
              "      quickchartButtonEl.disabled = true;  // To prevent multiple clicks.\n",
              "      quickchartButtonEl.classList.add('colab-df-spinner');\n",
              "      try {\n",
              "        const charts = await google.colab.kernel.invokeFunction(\n",
              "            'suggestCharts', [key], {});\n",
              "      } catch (error) {\n",
              "        console.error('Error during call to suggestCharts:', error);\n",
              "      }\n",
              "      quickchartButtonEl.classList.remove('colab-df-spinner');\n",
              "      quickchartButtonEl.classList.add('colab-df-quickchart-complete');\n",
              "    }\n",
              "    (() => {\n",
              "      let quickchartButtonEl =\n",
              "        document.querySelector('#df-59c58ad3-c365-485c-b44a-405ce5942065 button');\n",
              "      quickchartButtonEl.style.display =\n",
              "        google.colab.kernel.accessAllowed ? 'block' : 'none';\n",
              "    })();\n",
              "  </script>\n",
              "</div>\n",
              "\n",
              "    </div>\n",
              "  </div>\n"
            ],
            "application/vnd.google.colaboratory.intrinsic+json": {
              "type": "dataframe",
              "variable_name": "df"
            }
          },
          "metadata": {},
          "execution_count": 3
        }
      ]
    },
    {
      "cell_type": "markdown",
      "source": [
        "Next, we need to ensure all date fields are in datetime format, which enhances our ability to perform time-based calculations and aggregations:\n"
      ],
      "metadata": {
        "id": "OvDfHDOmTpvs"
      }
    },
    {
      "cell_type": "code",
      "source": [
        "# Convert Date Columns to Datetime\n",
        "date_columns = ['transactionDateTime', 'currentExpDate', 'accountOpenDate', 'dateOfLastAddressChange']\n",
        "df[date_columns] = df[date_columns].apply(pd.to_datetime)"
      ],
      "metadata": {
        "colab": {
          "base_uri": "https://localhost:8080/"
        },
        "id": "8ENIShFZhRcW",
        "outputId": "f2639837-5521-42a0-c338-ae9fb760f740"
      },
      "execution_count": 4,
      "outputs": [
        {
          "output_type": "stream",
          "name": "stderr",
          "text": [
            "<ipython-input-4-b08ffcf95a80>:3: UserWarning: Could not infer format, so each element will be parsed individually, falling back to `dateutil`. To ensure parsing is consistent and as-expected, please specify a format.\n",
            "  df[date_columns] = df[date_columns].apply(pd.to_datetime)\n"
          ]
        }
      ]
    },
    {
      "cell_type": "markdown",
      "source": [
        "## Identify and Handle Specific Transaction Types\n",
        "\n",
        "As we dig deeper, we've encountered two intriguing types of duplicate transactions that could potentially skew our analysis if not addressed: **Reversals** and **Multi-swipes**.\n",
        "\n",
        "- **Reversals**: These are transactions where purchases are quickly nullified, often due to errors or disputes. Identifying these is crucial as they mimic regular transactions in appearance but differ significantly in their nature.\n",
        "- **Multi-swipes**: These occur when a transaction is mistakenly processed more than once within a short time frame, which might indicate a system error or an attempt to defraud.\n",
        "\n",
        "Let's quantify these transactions to understand their impact better."
      ],
      "metadata": {
        "id": "2-nUkbYGhbvh"
      }
    },
    {
      "cell_type": "code",
      "source": [
        "# Identify Reversed Transactions\n",
        "reversed_transactions = df[df['transactionType'] == 'REVERSAL']"
      ],
      "metadata": {
        "id": "gH2Mw-wnhd54"
      },
      "execution_count": 5,
      "outputs": []
    },
    {
      "cell_type": "code",
      "source": [
        "# Identify Potential Multi-swipe Transactions\n",
        "df_sorted = df.sort_values(by=['accountNumber', 'merchantName', 'transactionDateTime'])\n",
        "multi_swipes = df_sorted[\n",
        "    (df_sorted['accountNumber'] == df_sorted['accountNumber'].shift(1)) &\n",
        "    (df_sorted['merchantName'] == df_sorted['merchantName'].shift(1)) &\n",
        "    (df_sorted['transactionAmount'] == df_sorted['transactionAmount'].shift(1)) &\n",
        "    ((df_sorted['transactionDateTime'] - df_sorted['transactionDateTime'].shift(1)).dt.total_seconds() <= 900)\n",
        "]\n",
        "multi_swipes = multi_swipes.iloc[1:]  # Exclude the first transaction of each set"
      ],
      "metadata": {
        "id": "ZCxlcyfNh3zU"
      },
      "execution_count": 6,
      "outputs": []
    },
    {
      "cell_type": "code",
      "source": [
        "# Calculate totals for Reversed and Multi-swipe transactions\n",
        "total_reversed_transactions = reversed_transactions['transactionAmount'].count()\n",
        "total_reversed_amount = reversed_transactions['transactionAmount'].sum()\n",
        "\n",
        "total_multi_swipes = multi_swipes['transactionAmount'].count()\n",
        "total_multi_swipe_amount = multi_swipes['transactionAmount'].sum()\n",
        "\n",
        "print(f\"Total Reversed Transactions: {total_reversed_transactions}, Total Amount: ${total_reversed_amount}\")\n",
        "print(f\"Total Multi-swipe Transactions: {total_multi_swipes}, Total Amount: ${total_multi_swipe_amount}\")\n",
        "\n",
        "# Analyzing average transaction amount\n",
        "print(\"\\nInteresting Aspects:\")\n",
        "print(f\"Average reversed transaction amount: ${reversed_transactions['transactionAmount'].mean()}\")\n",
        "print(f\"Average multi-swipe transaction amount: ${multi_swipes['transactionAmount'].mean()}\")"
      ],
      "metadata": {
        "id": "OZrVjsLDiUgj",
        "colab": {
          "base_uri": "https://localhost:8080/"
        },
        "outputId": "a59f6a2a-5299-4cac-90ee-69d0e961ba06"
      },
      "execution_count": 7,
      "outputs": [
        {
          "output_type": "stream",
          "name": "stdout",
          "text": [
            "Total Reversed Transactions: 20303, Total Amount: $2821792.5\n",
            "Total Multi-swipe Transactions: 13389, Total Amount: $1932069.08\n",
            "\n",
            "Interesting Aspects:\n",
            "Average reversed transaction amount: $138.98401714032408\n",
            "Average multi-swipe transaction amount: $144.30271715587423\n"
          ]
        }
      ]
    },
    {
      "cell_type": "markdown",
      "source": [
        "Now, let's remove these identified transactions:"
      ],
      "metadata": {
        "id": "UFqFUNDSQA-u"
      }
    },
    {
      "cell_type": "code",
      "source": [
        "# Remove Identified Transactions\n",
        "indices_to_remove = reversed_transactions.index.union(multi_swipes.index)\n",
        "df_cleaned = df.drop(indices_to_remove)\n",
        "\n",
        "print(f\"Original DataFrame size: {df.shape[0]}\")\n",
        "print(f\"Cleaned DataFrame size: {df_cleaned.shape[0]}\")\n",
        "print(f\"Removed a total of {len(indices_to_remove)} transactions.\")"
      ],
      "metadata": {
        "id": "JBiiOaBTiA-6",
        "colab": {
          "base_uri": "https://localhost:8080/"
        },
        "outputId": "00716916-9cb8-4eff-9d4c-5c364d9e8685"
      },
      "execution_count": 8,
      "outputs": [
        {
          "output_type": "stream",
          "name": "stdout",
          "text": [
            "Original DataFrame size: 786363\n",
            "Cleaned DataFrame size: 758391\n",
            "Removed a total of 27972 transactions.\n"
          ]
        }
      ]
    },
    {
      "cell_type": "markdown",
      "source": [
        "## Handle Missing Values\n",
        "\n",
        "With duplicate transactions out of the way, we turn our attention to filling in the gaps—missing data:"
      ],
      "metadata": {
        "id": "SV6d_BgLiEBT"
      }
    },
    {
      "cell_type": "code",
      "source": [
        "# Replace empty strings with NaN\n",
        "df_cleaned.replace('', np.nan, inplace=True)\n",
        "\n",
        "# Check for missing values\n",
        "print(\"\\nMissing Values in Each Column:\")\n",
        "print(df_cleaned.isna().sum())"
      ],
      "metadata": {
        "colab": {
          "base_uri": "https://localhost:8080/"
        },
        "id": "_THbldEGiWlV",
        "outputId": "e71d7d99-2a16-4518-a775-891144988320"
      },
      "execution_count": 9,
      "outputs": [
        {
          "output_type": "stream",
          "name": "stdout",
          "text": [
            "\n",
            "Missing Values in Each Column:\n",
            "accountNumber                    0\n",
            "customerId                       0\n",
            "creditLimit                      0\n",
            "availableMoney                   0\n",
            "transactionDateTime              0\n",
            "transactionAmount                0\n",
            "merchantName                     0\n",
            "acqCountry                    4400\n",
            "merchantCountryCode            703\n",
            "posEntryMode                  3904\n",
            "posConditionCode               395\n",
            "merchantCategoryCode             0\n",
            "currentExpDate                   0\n",
            "accountOpenDate                  0\n",
            "dateOfLastAddressChange          0\n",
            "cardCVV                          0\n",
            "enteredCVV                       0\n",
            "cardLast4Digits                  0\n",
            "transactionType                690\n",
            "echoBuffer                  758391\n",
            "currentBalance                   0\n",
            "merchantCity                758391\n",
            "merchantState               758391\n",
            "merchantZip                 758391\n",
            "cardPresent                      0\n",
            "posOnPremises               758391\n",
            "recurringAuthInd            758391\n",
            "expirationDateKeyInMatch         0\n",
            "isFraud                          0\n",
            "dtype: int64\n"
          ]
        }
      ]
    },
    {
      "cell_type": "markdown",
      "source": [
        "After a thorough examination, columns completely devoid of data were removed. For columns like 'acqCountry' and 'merchantCountryCode' with substantial missing entries, we introduce an 'Unknown' category. This approach acknowledges that missing data might carry hidden insights, particularly in fraud detection. For other columns where data is missing sporadically, we impute values using the most frequent occurrences to maintain the integrity of our dataset."
      ],
      "metadata": {
        "id": "kFcRPHILUpTI"
      }
    },
    {
      "cell_type": "code",
      "source": [
        "# Drop columns that are entirely NA\n",
        "df_cleaned.dropna(axis=1, how='all', inplace=True)\n",
        "\n",
        "# Fill missing values for categorical columns with most common value or a placeholder\n",
        "categorical_fill = {\n",
        "    'acqCountry': 'Unknown',\n",
        "    'merchantCountryCode': 'Unknown',\n",
        "    'posEntryMode': df_cleaned['posEntryMode'].mode()[0],\n",
        "    'posConditionCode': df_cleaned['posConditionCode'].mode()[0],\n",
        "    'transactionType': df_cleaned['transactionType'].mode()[0]\n",
        "}\n",
        "for col, fill_value in categorical_fill.items():\n",
        "    df_cleaned[col].fillna(fill_value, inplace=True)"
      ],
      "metadata": {
        "id": "pMlcpRyTiGby"
      },
      "execution_count": 10,
      "outputs": []
    },
    {
      "cell_type": "markdown",
      "source": [
        "## Feature Engineering\n",
        "\n",
        "Now comes the exciting part—feature engineering! Here, we transform raw data into features that can better represent underlying patterns in the data. By converting datetime values into more analysis-friendly formats, we can uncover new perspectives on fraud detection:"
      ],
      "metadata": {
        "id": "A7t2jtFCissR"
      }
    },
    {
      "cell_type": "code",
      "source": [
        "# Create and Transform Features\n",
        "df_cleaned['CVVMatch'] = (df_cleaned['cardCVV'].astype(str) == df_cleaned['enteredCVV'].astype(str)).astype(bool)\n",
        "df_cleaned['hour'] = df_cleaned['transactionDateTime'].dt.hour\n",
        "df_cleaned['time_of_day'] = df_cleaned['hour'].apply(lambda x: 'Morning' if 6 <= x < 12 else ('Afternoon' if 12 <= x < 18 else 'Evening'))\n",
        "df_cleaned['day_of_week'] = df_cleaned['transactionDateTime'].dt.dayofweek\n",
        "df_cleaned['is_weekend'] = df_cleaned['day_of_week'].isin([5, 6]).astype(int)\n",
        "df_cleaned['month'] = df['transactionDateTime'].dt.month\n",
        "df_cleaned['day_of_month'] = df_cleaned['transactionDateTime'].dt.day\n",
        "df_cleaned.sort_values(by=['accountNumber', 'transactionDateTime'], inplace=True)\n",
        "df_cleaned['time_since_last_txn'] = df_cleaned.groupby('accountNumber')['transactionDateTime'].diff().dt.total_seconds().fillna(0)"
      ],
      "metadata": {
        "id": "G-l_Fo2KiqjL"
      },
      "execution_count": 11,
      "outputs": []
    },
    {
      "cell_type": "markdown",
      "source": [
        "## Encode Categorical Features\n",
        "\n",
        "To ensure our models can interpret our categorical data effectively, we must translate it into a machine-readable format:"
      ],
      "metadata": {
        "id": "ArJH9ZBFi2RR"
      }
    },
    {
      "cell_type": "code",
      "source": [
        "print(df_cleaned.dtypes)"
      ],
      "metadata": {
        "colab": {
          "base_uri": "https://localhost:8080/"
        },
        "id": "gI-FwiQ6izqt",
        "outputId": "92d4c0cc-d01c-4313-a824-3157a1662d60"
      },
      "execution_count": 12,
      "outputs": [
        {
          "output_type": "stream",
          "name": "stdout",
          "text": [
            "accountNumber                       object\n",
            "customerId                          object\n",
            "creditLimit                        float64\n",
            "availableMoney                     float64\n",
            "transactionDateTime         datetime64[ns]\n",
            "transactionAmount                  float64\n",
            "merchantName                        object\n",
            "acqCountry                          object\n",
            "merchantCountryCode                 object\n",
            "posEntryMode                        object\n",
            "posConditionCode                    object\n",
            "merchantCategoryCode                object\n",
            "currentExpDate              datetime64[ns]\n",
            "accountOpenDate             datetime64[ns]\n",
            "dateOfLastAddressChange     datetime64[ns]\n",
            "cardCVV                             object\n",
            "enteredCVV                          object\n",
            "cardLast4Digits                     object\n",
            "transactionType                     object\n",
            "currentBalance                     float64\n",
            "cardPresent                           bool\n",
            "expirationDateKeyInMatch              bool\n",
            "isFraud                               bool\n",
            "CVVMatch                              bool\n",
            "hour                                 int32\n",
            "time_of_day                         object\n",
            "day_of_week                          int32\n",
            "is_weekend                           int64\n",
            "month                                int32\n",
            "day_of_month                         int32\n",
            "time_since_last_txn                float64\n",
            "dtype: object\n"
          ]
        }
      ]
    },
    {
      "cell_type": "markdown",
      "source": [
        "One significant challenge with one-hot encoding is its potential to expand data dimensionality excessively. To counter this, we set a 5% threshold; categories beyond this are kept as strings, ensuring our model remains efficient and focused."
      ],
      "metadata": {
        "id": "CNI2n4p3Wvfp"
      }
    },
    {
      "cell_type": "code",
      "source": [
        "# Convert object columns based on unique value thresholds and apply one-hot encoding\n",
        "threshold_percentage = 0.05\n",
        "for col in df_cleaned.select_dtypes(include='object').columns:\n",
        "    if (df_cleaned[col].nunique() / len(df_cleaned)) < threshold_percentage:\n",
        "        df_cleaned[col] = df_cleaned[col].astype('category')\n",
        "    else:\n",
        "        df_cleaned[col] = df_cleaned[col].astype('string')"
      ],
      "metadata": {
        "id": "NUEI0ZbojG2K"
      },
      "execution_count": 13,
      "outputs": []
    },
    {
      "cell_type": "code",
      "source": [
        "# Columns to encode\n",
        "columns_to_encode = ['acqCountry', 'merchantCountryCode', 'posEntryMode',\n",
        "                     'posConditionCode', 'transactionType', 'merchantCategoryCode', 'time_of_day']\n",
        "\n",
        "# Applying one-hot encoding\n",
        "df_cleaned = pd.get_dummies(df_cleaned, columns=columns_to_encode)"
      ],
      "metadata": {
        "id": "zHY4kelYjLjN"
      },
      "execution_count": 14,
      "outputs": []
    },
    {
      "cell_type": "markdown",
      "source": [
        "## Standardize Numeric Features\n",
        "\n",
        "As a final step in our data preparation, we standardize numeric features to ensure consistency across our dataset, thereby eliminating any bias introduced by varying scales:"
      ],
      "metadata": {
        "id": "n2L3dvcXjRrT"
      }
    },
    {
      "cell_type": "code",
      "source": [
        "# Initialize the StandardScaler\n",
        "scaler = StandardScaler()\n",
        "\n",
        "# List of numeric columns to standardize\n",
        "numeric_cols = df_cleaned.select_dtypes(include='float64').columns\n",
        "\n",
        "# Apply StandardScaler to these columns\n",
        "df_cleaned[numeric_cols] = scaler.fit_transform(df_cleaned[numeric_cols])"
      ],
      "metadata": {
        "id": "VT3hAqBBjTFi"
      },
      "execution_count": 15,
      "outputs": []
    },
    {
      "cell_type": "markdown",
      "source": [
        "## Save the Cleaned DataFrame to a Parquet File\n",
        "\n",
        "Our data is now meticulously prepared—cleaned, enriched, and structured for the analytical stages ahead. To efficiently resume our work in subsequent phases without redundancy, we save our progress:"
      ],
      "metadata": {
        "id": "aI-UqBOGjcaR"
      }
    },
    {
      "cell_type": "code",
      "source": [
        "# Save the cleaned DataFrame to a Parquet file\n",
        "df_cleaned.to_parquet('cleaned_transactions.parquet', index=False)"
      ],
      "metadata": {
        "id": "Ob1CgI9pjY3X"
      },
      "execution_count": 16,
      "outputs": []
    },
    {
      "cell_type": "markdown",
      "source": [
        "# Part II: Model Development and Evaluation\n",
        "\n",
        "In this chapter of our data journey, we transition from the meticulous preparation of our dataset to the dynamic world of model building and evaluation. This phase is where our preparatory work pays off, enabling us to uncover patterns and predict outcomes with precision. We'll employ a variety of modeling techniques, address class imbalances, and refine our models through feature selection, all aimed at robustly detecting fraudulent transactions."
      ],
      "metadata": {
        "id": "OV6HUCDpkL8I"
      }
    },
    {
      "cell_type": "markdown",
      "source": [
        "## Import Necessary Libraries"
      ],
      "metadata": {
        "id": "-URJsyp69FG0"
      }
    },
    {
      "cell_type": "code",
      "source": [
        "import pandas as pd\n",
        "import numpy as np\n",
        "from sklearn.preprocessing import StandardScaler\n",
        "import matplotlib.pyplot as plt\n",
        "import seaborn as sns\n",
        "from sklearn.model_selection import train_test_split\n",
        "from imblearn.over_sampling import SMOTE\n",
        "from imblearn.under_sampling import RandomUnderSampler\n",
        "from sklearn.linear_model import LogisticRegression\n",
        "from sklearn.ensemble import RandomForestClassifier\n",
        "from xgboost import XGBClassifier\n",
        "from sklearn.svm import SVC\n",
        "from sklearn.metrics import classification_report, average_precision_score, recall_score, precision_score, f1_score, precision_recall_curve, confusion_matrix\n",
        "from sklearn.feature_selection import RFE, RFECV\n",
        "from sklearn.model_selection import StratifiedKFold\n",
        "from imblearn.pipeline import Pipeline as ImbPipeline\n",
        "from sklearn.metrics import make_scorer\n",
        "from sklearn.model_selection import GridSearchCV"
      ],
      "metadata": {
        "id": "v659M2jb5dVq"
      },
      "execution_count": 17,
      "outputs": []
    },
    {
      "cell_type": "markdown",
      "source": [
        "## Load the Cleaned Data\n",
        "\n",
        "Now, let's retrieve the cleaned data that we meticulously prepared in the previous phase:"
      ],
      "metadata": {
        "id": "gmaUzJBn9JsY"
      }
    },
    {
      "cell_type": "code",
      "source": [
        "# Load cleaned data previously stored in a Parquet file\n",
        "df_cleaned = pd.read_parquet('cleaned_transactions.parquet')"
      ],
      "metadata": {
        "id": "Dn2qQ6_MjkKr"
      },
      "execution_count": 18,
      "outputs": []
    },
    {
      "cell_type": "markdown",
      "source": [
        "## Prepare Data for Modeling\n",
        "\n",
        "Our data is ready, and so begins the task of preparing it for modeling. We split the data into a 70% training segment and a 30% testing segment, setting the stage for both robust training of our models and thorough evaluation of their performance.\n",
        "\n",
        "In refining our approach, we exclude raw datetime and string columns, opting instead to enrich our dataset with one-hot encoded categorical variables and strategically engineered time-related features."
      ],
      "metadata": {
        "id": "XyD9jebM9VeI"
      }
    },
    {
      "cell_type": "code",
      "source": [
        "# Prepare feature matrix and target vector, excluding specific columns\n",
        "X = df_cleaned.drop(['isFraud', 'transactionDateTime', 'currentExpDate', 'accountOpenDate', 'dateOfLastAddressChange', 'accountNumber', 'customerId', 'merchantName', 'cardCVV', 'enteredCVV', 'cardLast4Digits'], axis=1)\n",
        "y = df_cleaned['isFraud']\n",
        "\n",
        "# Split data into training and test sets\n",
        "X_train, X_test, y_train, y_test = train_test_split(X, y, test_size=0.3, random_state=2024)"
      ],
      "metadata": {
        "id": "RTAc3n1lzhMQ"
      },
      "execution_count": 19,
      "outputs": []
    },
    {
      "cell_type": "code",
      "source": [
        "# Check the balance of classes in 'isFraud'\n",
        "print(\"\\nClass Distribution in 'isFraud':\")\n",
        "print(y_train.value_counts(normalize=True))"
      ],
      "metadata": {
        "colab": {
          "base_uri": "https://localhost:8080/"
        },
        "id": "JVsgIYwxzpZa",
        "outputId": "9a952074-d1b2-4847-fb11-5b30121e3fcf"
      },
      "execution_count": 20,
      "outputs": [
        {
          "output_type": "stream",
          "name": "stdout",
          "text": [
            "\n",
            "Class Distribution in 'isFraud':\n",
            "isFraud\n",
            "False    0.984275\n",
            "True     0.015725\n",
            "Name: proportion, dtype: float64\n"
          ]
        }
      ]
    },
    {
      "cell_type": "markdown",
      "source": [
        "The data reveals a significant class imbalance, with 98% of the observations labeled as False and only 2% as True. To enhance our model's ability to predict the minority class effectively, we must address this imbalance."
      ],
      "metadata": {
        "id": "BGbe7rgcqcWK"
      }
    },
    {
      "cell_type": "markdown",
      "source": [
        "## Address Class Imbalance\n",
        "\n",
        "The rarity of fraud incidents poses a unique challenge; hence, balancing our dataset is crucial for robust model performance. We explore two strategies: **synthetic oversampling with SMOTE** and **random undersampling**:"
      ],
      "metadata": {
        "id": "ftqDkJhd9hFo"
      }
    },
    {
      "cell_type": "markdown",
      "source": [
        "### Over-sampling with SMOTE\n",
        "\n",
        "We begin by employing SMOTE (Synthetic Minority Over-sampling Technique) to equalize the classes through the creation of synthetic samples:"
      ],
      "metadata": {
        "id": "2PHqg6nmTh9g"
      }
    },
    {
      "cell_type": "code",
      "source": [
        "# Over Sampling with SMOTE\n",
        "smote = SMOTE(random_state=2024)\n",
        "X_train_oversampled, y_train_oversampled = smote.fit_resample(X_train, y_train)\n",
        "\n",
        "print(\"\\nNew Class Distribution after Over-sampling:\")\n",
        "print(pd.Series(y_train_oversampled).value_counts(normalize=False))"
      ],
      "metadata": {
        "colab": {
          "base_uri": "https://localhost:8080/"
        },
        "id": "6Jh3T_8ulKaf",
        "outputId": "7189c290-4124-4076-8011-d0236b871e71"
      },
      "execution_count": 21,
      "outputs": [
        {
          "output_type": "stream",
          "name": "stdout",
          "text": [
            "\n",
            "New Class Distribution after Over-sampling:\n",
            "isFraud\n",
            "False    522525\n",
            "True     522525\n",
            "Name: count, dtype: int64\n"
          ]
        }
      ]
    },
    {
      "cell_type": "markdown",
      "source": [
        "The new class distribution after oversampling displays a perfect balance, providing our models a more equitable data environment to learn from."
      ],
      "metadata": {
        "id": "8gAsX8XkTlnF"
      }
    },
    {
      "cell_type": "markdown",
      "source": [
        "### Under-sampling Strategy\n",
        "\n",
        "Conversely, we explore under-sampling, reducing the majority class to achieve balance:"
      ],
      "metadata": {
        "id": "B4rRcCRPsqVD"
      }
    },
    {
      "cell_type": "code",
      "source": [
        "# Random Under Sampling\n",
        "rus = RandomUnderSampler(random_state=2024)\n",
        "X_train_undersampled, y_train_undersampled = rus.fit_resample(X_train, y_train)\n",
        "\n",
        "print(\"\\nNew Class Distribution after Under-sampling:\")\n",
        "print(pd.Series(y_train_undersampled).value_counts(normalize=False))"
      ],
      "metadata": {
        "colab": {
          "base_uri": "https://localhost:8080/"
        },
        "id": "I0Z0DErfzphH",
        "outputId": "1de9f11e-0cb6-401d-cfde-42c7802c4dc8"
      },
      "execution_count": 22,
      "outputs": [
        {
          "output_type": "stream",
          "name": "stdout",
          "text": [
            "\n",
            "New Class Distribution after Under-sampling:\n",
            "isFraud\n",
            "False    8348\n",
            "True     8348\n",
            "Name: count, dtype: int64\n"
          ]
        }
      ]
    },
    {
      "cell_type": "markdown",
      "source": [
        "This results in a significantly smaller but perfectly balanced dataset."
      ],
      "metadata": {
        "id": "0GWYXIDAs3Ge"
      }
    },
    {
      "cell_type": "markdown",
      "source": [
        "## Model Exploration and Performance Comparison\n",
        "\n",
        "As we delve deeper into the core of our analysis, we begin by testing various models to determine which best identifies fraudulent transactions. We start with **logistic regression** as a robust baseline for binary classification tasks and extend our exploration to include more complex models like **Random Forest** and **XGBoost**. These models are particularly suited for handling imbalanced data, making them prime candidates for our fraud detection analysis."
      ],
      "metadata": {
        "id": "PZg0K0aj-xiv"
      }
    },
    {
      "cell_type": "markdown",
      "source": [
        "### Evaluating Over-sampling\n",
        "\n",
        "First, we assess the models using oversampled data to see how well they perform in a balanced environment:"
      ],
      "metadata": {
        "id": "5BSwX560-9BC"
      }
    },
    {
      "cell_type": "code",
      "source": [
        "# Logistic Regression\n",
        "log_reg = LogisticRegression(max_iter=1000, solver='liblinear')\n",
        "log_reg.fit(X_train_oversampled, y_train_oversampled)\n",
        "y_pred_log_reg = log_reg.predict(X_test)\n",
        "print(\"Logistic Regression Classification Report:\")\n",
        "print(classification_report(y_test, y_pred_log_reg))\n",
        "log_reg_pr_auc = average_precision_score(y_test, log_reg.predict_proba(X_test)[:, 1])\n",
        "print(f\"Logistic Regression PR AUC Score: {log_reg_pr_auc:.4f}\")\n",
        "\n",
        "# RandomForest\n",
        "rf = RandomForestClassifier(n_estimators=100, random_state=2024)\n",
        "rf.fit(X_train_oversampled, y_train_oversampled)\n",
        "y_pred_rf = rf.predict(X_test)\n",
        "print(\"Random Forest Classification Report:\")\n",
        "print(classification_report(y_test, y_pred_rf))\n",
        "rf_pr_auc = average_precision_score(y_test, rf.predict_proba(X_test)[:, 1])\n",
        "print(f\"Random Forest PR AUC Score: {rf_pr_auc:.4f}\")\n",
        "\n",
        "# XGBoost\n",
        "xgb = XGBClassifier(scale_pos_weight=(y_train_oversampled.value_counts()[0] / y_train_oversampled.value_counts()[1]), use_label_encoder=False, eval_metric='logloss')\n",
        "xgb.fit(X_train_oversampled, y_train_oversampled)\n",
        "y_pred_xgb = xgb.predict(X_test)\n",
        "print(\"XGBoost Classification Report:\")\n",
        "print(classification_report(y_test, y_pred_xgb))\n",
        "xgb_pr_auc = average_precision_score(y_test, xgb.predict_proba(X_test)[:, 1])\n",
        "print(f\"XGBoost PR AUC Score: {xgb_pr_auc:.4f}\")"
      ],
      "metadata": {
        "colab": {
          "base_uri": "https://localhost:8080/"
        },
        "id": "xgZ9Zyo9zuK4",
        "outputId": "1256531c-aaf5-4b27-fd0a-340a6b9b541d"
      },
      "execution_count": 23,
      "outputs": [
        {
          "output_type": "stream",
          "name": "stdout",
          "text": [
            "Logistic Regression Classification Report:\n",
            "              precision    recall  f1-score   support\n",
            "\n",
            "       False       0.99      0.99      0.99    223915\n",
            "        True       0.09      0.07      0.08      3603\n",
            "\n",
            "    accuracy                           0.97    227518\n",
            "   macro avg       0.54      0.53      0.53    227518\n",
            "weighted avg       0.97      0.97      0.97    227518\n",
            "\n",
            "Logistic Regression PR AUC Score: 0.0451\n",
            "Random Forest Classification Report:\n",
            "              precision    recall  f1-score   support\n",
            "\n",
            "       False       0.98      1.00      0.99    223915\n",
            "        True       0.09      0.00      0.01      3603\n",
            "\n",
            "    accuracy                           0.98    227518\n",
            "   macro avg       0.54      0.50      0.50    227518\n",
            "weighted avg       0.97      0.98      0.98    227518\n",
            "\n",
            "Random Forest PR AUC Score: 0.0386\n",
            "XGBoost Classification Report:\n",
            "              precision    recall  f1-score   support\n",
            "\n",
            "       False       0.98      1.00      0.99    223915\n",
            "        True       0.08      0.02      0.03      3603\n",
            "\n",
            "    accuracy                           0.98    227518\n",
            "   macro avg       0.53      0.51      0.51    227518\n",
            "weighted avg       0.97      0.98      0.98    227518\n",
            "\n",
            "XGBoost PR AUC Score: 0.0469\n"
          ]
        }
      ]
    },
    {
      "cell_type": "markdown",
      "source": [
        "Despite balancing the class distribution, the recall for identifying true fraud cases remains disappointingly low across all models, with logistic regression showing modest results."
      ],
      "metadata": {
        "id": "NVU21Dz0uFsT"
      }
    },
    {
      "cell_type": "markdown",
      "source": [
        "### Assessing Under-sampling\n",
        "\n",
        "Given the limited success with oversampling, we then pivot to an under-sampling strategy to see if reducing the size of the majority class offers a better perspective:"
      ],
      "metadata": {
        "id": "E9xZr7qg_kkD"
      }
    },
    {
      "cell_type": "code",
      "source": [
        "# Logistic Regression\n",
        "log_reg = LogisticRegression(max_iter=1000, solver='liblinear')\n",
        "log_reg.fit(X_train_undersampled, y_train_undersampled)\n",
        "y_pred_log_reg = log_reg.predict(X_test)\n",
        "print(\"Logistic Regression Classification Report:\")\n",
        "print(classification_report(y_test, y_pred_log_reg))\n",
        "log_reg_pr_auc = average_precision_score(y_test, log_reg.predict_proba(X_test)[:, 1])\n",
        "print(f\"Logistic Regression PR AUC Score: {log_reg_pr_auc:.4f}\")\n",
        "\n",
        "# RandomForest\n",
        "rf = RandomForestClassifier(n_estimators=100, random_state=2024)\n",
        "rf.fit(X_train_undersampled, y_train_undersampled)\n",
        "y_pred_rf = rf.predict(X_test)\n",
        "print(\"Random Forest Classification Report:\")\n",
        "print(classification_report(y_test, y_pred_rf))\n",
        "rf_pr_auc = average_precision_score(y_test, rf.predict_proba(X_test)[:, 1])\n",
        "print(f\"Random Forest PR AUC Score: {rf_pr_auc:.4f}\")\n",
        "\n",
        "# XGBoost\n",
        "xgb = XGBClassifier(scale_pos_weight=(y_train_undersampled.value_counts()[0] / y_train_undersampled.value_counts()[1]), use_label_encoder=False, eval_metric='logloss')\n",
        "xgb.fit(X_train_undersampled, y_train_undersampled)\n",
        "y_pred_xgb = xgb.predict(X_test)\n",
        "print(\"XGBoost Classification Report:\")\n",
        "print(classification_report(y_test, y_pred_xgb))\n",
        "xgb_pr_auc = average_precision_score(y_test, xgb.predict_proba(X_test)[:, 1])\n",
        "print(f\"XGBoost PR AUC Score: {xgb_pr_auc:.4f}\")"
      ],
      "metadata": {
        "colab": {
          "base_uri": "https://localhost:8080/"
        },
        "id": "Z5UtNAcO_P16",
        "outputId": "20894699-4441-4791-82b7-92172f8a26e0"
      },
      "execution_count": 24,
      "outputs": [
        {
          "output_type": "stream",
          "name": "stdout",
          "text": [
            "Logistic Regression Classification Report:\n",
            "              precision    recall  f1-score   support\n",
            "\n",
            "       False       0.99      0.65      0.79    223915\n",
            "        True       0.03      0.70      0.06      3603\n",
            "\n",
            "    accuracy                           0.65    227518\n",
            "   macro avg       0.51      0.68      0.42    227518\n",
            "weighted avg       0.98      0.65      0.77    227518\n",
            "\n",
            "Logistic Regression PR AUC Score: 0.0499\n",
            "Random Forest Classification Report:\n",
            "              precision    recall  f1-score   support\n",
            "\n",
            "       False       0.99      0.71      0.83    223915\n",
            "        True       0.04      0.67      0.07      3603\n",
            "\n",
            "    accuracy                           0.71    227518\n",
            "   macro avg       0.51      0.69      0.45    227518\n",
            "weighted avg       0.98      0.71      0.81    227518\n",
            "\n",
            "Random Forest PR AUC Score: 0.0458\n",
            "XGBoost Classification Report:\n",
            "              precision    recall  f1-score   support\n",
            "\n",
            "       False       0.99      0.69      0.81    223915\n",
            "        True       0.03      0.69      0.07      3603\n",
            "\n",
            "    accuracy                           0.69    227518\n",
            "   macro avg       0.51      0.69      0.44    227518\n",
            "weighted avg       0.98      0.69      0.80    227518\n",
            "\n",
            "XGBoost PR AUC Score: 0.0504\n"
          ]
        }
      ]
    },
    {
      "cell_type": "markdown",
      "source": [
        "This change leads to a dramatic improvement in recall for detecting true fraud cases, with logistic regression's recall soaring to 0.70. Encouraged by this success, we continue to refine our logistic regression model under the under-sampling regime. This strategic focus allows us to enhance model performance further and more effectively address the nuances of fraud detection."
      ],
      "metadata": {
        "id": "yvWMhO3iuQn_"
      }
    },
    {
      "cell_type": "markdown",
      "source": [
        "## Feature Selection\n",
        "\n",
        "In our journey to refine the sophistication of our models, we embrace **Recursive Feature Elimination (RFE)**, a technique that systematically narrows down our dataset to its most influential features. By iteratively stripping away the least crucial attributes, RFE allows us to rebuild the model with only the essential elements, enhancing both simplicity and focus. This process not only streamlines our model but also deepens our understanding of which features truly matter.\n"
      ],
      "metadata": {
        "id": "Y4Egmjte_sC8"
      }
    },
    {
      "cell_type": "markdown",
      "source": [
        "### Determine Optimal Number of Features\n",
        "\n",
        "To identify the ideal number of features, we employ a rigorous method: **stratified 5-fold cross-validation**. This approach ensures that each data subset mirrors the overall dataset, maintaining integrity and balance for dependable evaluation. We prioritize recall as our scoring metric, which is paramount in fraud detection to minimize the risk of overlooking fraudulent transactions.\n",
        "\n",
        "Critical to this process, we integrate undersampling within our cross-validation framework to avert data leakage and mitigate potential biases that might inadvertently arise during model training:\n",
        "\n"
      ],
      "metadata": {
        "id": "r9KZn6ykAXjx"
      }
    },
    {
      "cell_type": "code",
      "source": [
        "# Define the model\n",
        "model = LogisticRegression(max_iter=1000)\n",
        "\n",
        "# Create a pipeline that includes undersampling and the classifier\n",
        "pipeline = ImbPipeline([\n",
        "    ('undersampler', RandomUnderSampler(random_state=2024)),\n",
        "    ('classifier', model)\n",
        "])\n",
        "\n",
        "# Define cross-validation parameters\n",
        "cv_strategy = StratifiedKFold(n_splits=5)\n",
        "\n",
        "# Set up RFECV with recall as the scoring metric\n",
        "rfecv = RFECV(\n",
        "    estimator=pipeline,\n",
        "    step=1,\n",
        "    cv=cv_strategy,\n",
        "    scoring=make_scorer(recall_score),\n",
        "    min_features_to_select=1,\n",
        "    importance_getter='named_steps.classifier.coef_'\n",
        ")\n",
        "\n",
        "# Fit RFECV to the full training data\n",
        "rfecv.fit(X_train, y_train)"
      ],
      "metadata": {
        "colab": {
          "base_uri": "https://localhost:8080/",
          "height": 153
        },
        "id": "Dd2jQte-xVML",
        "outputId": "ae3a23d5-c598-4430-f98e-ca96e3224447"
      },
      "execution_count": 25,
      "outputs": [
        {
          "output_type": "execute_result",
          "data": {
            "text/plain": [
              "RFECV(cv=StratifiedKFold(n_splits=5, random_state=None, shuffle=False),\n",
              "      estimator=Pipeline(steps=[('undersampler',\n",
              "                                 RandomUnderSampler(random_state=2024)),\n",
              "                                ('classifier',\n",
              "                                 LogisticRegression(max_iter=1000))]),\n",
              "      importance_getter='named_steps.classifier.coef_',\n",
              "      scoring=make_scorer(recall_score))"
            ],
            "text/html": [
              "<style>#sk-container-id-1 {color: black;background-color: white;}#sk-container-id-1 pre{padding: 0;}#sk-container-id-1 div.sk-toggleable {background-color: white;}#sk-container-id-1 label.sk-toggleable__label {cursor: pointer;display: block;width: 100%;margin-bottom: 0;padding: 0.3em;box-sizing: border-box;text-align: center;}#sk-container-id-1 label.sk-toggleable__label-arrow:before {content: \"▸\";float: left;margin-right: 0.25em;color: #696969;}#sk-container-id-1 label.sk-toggleable__label-arrow:hover:before {color: black;}#sk-container-id-1 div.sk-estimator:hover label.sk-toggleable__label-arrow:before {color: black;}#sk-container-id-1 div.sk-toggleable__content {max-height: 0;max-width: 0;overflow: hidden;text-align: left;background-color: #f0f8ff;}#sk-container-id-1 div.sk-toggleable__content pre {margin: 0.2em;color: black;border-radius: 0.25em;background-color: #f0f8ff;}#sk-container-id-1 input.sk-toggleable__control:checked~div.sk-toggleable__content {max-height: 200px;max-width: 100%;overflow: auto;}#sk-container-id-1 input.sk-toggleable__control:checked~label.sk-toggleable__label-arrow:before {content: \"▾\";}#sk-container-id-1 div.sk-estimator input.sk-toggleable__control:checked~label.sk-toggleable__label {background-color: #d4ebff;}#sk-container-id-1 div.sk-label input.sk-toggleable__control:checked~label.sk-toggleable__label {background-color: #d4ebff;}#sk-container-id-1 input.sk-hidden--visually {border: 0;clip: rect(1px 1px 1px 1px);clip: rect(1px, 1px, 1px, 1px);height: 1px;margin: -1px;overflow: hidden;padding: 0;position: absolute;width: 1px;}#sk-container-id-1 div.sk-estimator {font-family: monospace;background-color: #f0f8ff;border: 1px dotted black;border-radius: 0.25em;box-sizing: border-box;margin-bottom: 0.5em;}#sk-container-id-1 div.sk-estimator:hover {background-color: #d4ebff;}#sk-container-id-1 div.sk-parallel-item::after {content: \"\";width: 100%;border-bottom: 1px solid gray;flex-grow: 1;}#sk-container-id-1 div.sk-label:hover label.sk-toggleable__label {background-color: #d4ebff;}#sk-container-id-1 div.sk-serial::before {content: \"\";position: absolute;border-left: 1px solid gray;box-sizing: border-box;top: 0;bottom: 0;left: 50%;z-index: 0;}#sk-container-id-1 div.sk-serial {display: flex;flex-direction: column;align-items: center;background-color: white;padding-right: 0.2em;padding-left: 0.2em;position: relative;}#sk-container-id-1 div.sk-item {position: relative;z-index: 1;}#sk-container-id-1 div.sk-parallel {display: flex;align-items: stretch;justify-content: center;background-color: white;position: relative;}#sk-container-id-1 div.sk-item::before, #sk-container-id-1 div.sk-parallel-item::before {content: \"\";position: absolute;border-left: 1px solid gray;box-sizing: border-box;top: 0;bottom: 0;left: 50%;z-index: -1;}#sk-container-id-1 div.sk-parallel-item {display: flex;flex-direction: column;z-index: 1;position: relative;background-color: white;}#sk-container-id-1 div.sk-parallel-item:first-child::after {align-self: flex-end;width: 50%;}#sk-container-id-1 div.sk-parallel-item:last-child::after {align-self: flex-start;width: 50%;}#sk-container-id-1 div.sk-parallel-item:only-child::after {width: 0;}#sk-container-id-1 div.sk-dashed-wrapped {border: 1px dashed gray;margin: 0 0.4em 0.5em 0.4em;box-sizing: border-box;padding-bottom: 0.4em;background-color: white;}#sk-container-id-1 div.sk-label label {font-family: monospace;font-weight: bold;display: inline-block;line-height: 1.2em;}#sk-container-id-1 div.sk-label-container {text-align: center;}#sk-container-id-1 div.sk-container {/* jupyter's `normalize.less` sets `[hidden] { display: none; }` but bootstrap.min.css set `[hidden] { display: none !important; }` so we also need the `!important` here to be able to override the default hidden behavior on the sphinx rendered scikit-learn.org. See: https://github.com/scikit-learn/scikit-learn/issues/21755 */display: inline-block !important;position: relative;}#sk-container-id-1 div.sk-text-repr-fallback {display: none;}</style><div id=\"sk-container-id-1\" class=\"sk-top-container\"><div class=\"sk-text-repr-fallback\"><pre>RFECV(cv=StratifiedKFold(n_splits=5, random_state=None, shuffle=False),\n",
              "      estimator=Pipeline(steps=[(&#x27;undersampler&#x27;,\n",
              "                                 RandomUnderSampler(random_state=2024)),\n",
              "                                (&#x27;classifier&#x27;,\n",
              "                                 LogisticRegression(max_iter=1000))]),\n",
              "      importance_getter=&#x27;named_steps.classifier.coef_&#x27;,\n",
              "      scoring=make_scorer(recall_score))</pre><b>In a Jupyter environment, please rerun this cell to show the HTML representation or trust the notebook. <br />On GitHub, the HTML representation is unable to render, please try loading this page with nbviewer.org.</b></div><div class=\"sk-container\" hidden><div class=\"sk-item sk-dashed-wrapped\"><div class=\"sk-label-container\"><div class=\"sk-label sk-toggleable\"><input class=\"sk-toggleable__control sk-hidden--visually\" id=\"sk-estimator-id-1\" type=\"checkbox\" ><label for=\"sk-estimator-id-1\" class=\"sk-toggleable__label sk-toggleable__label-arrow\">RFECV</label><div class=\"sk-toggleable__content\"><pre>RFECV(cv=StratifiedKFold(n_splits=5, random_state=None, shuffle=False),\n",
              "      estimator=Pipeline(steps=[(&#x27;undersampler&#x27;,\n",
              "                                 RandomUnderSampler(random_state=2024)),\n",
              "                                (&#x27;classifier&#x27;,\n",
              "                                 LogisticRegression(max_iter=1000))]),\n",
              "      importance_getter=&#x27;named_steps.classifier.coef_&#x27;,\n",
              "      scoring=make_scorer(recall_score))</pre></div></div></div><div class=\"sk-parallel\"><div class=\"sk-parallel-item\"><div class=\"sk-item\"><div class=\"sk-label-container\"><div class=\"sk-label sk-toggleable\"><input class=\"sk-toggleable__control sk-hidden--visually\" id=\"sk-estimator-id-2\" type=\"checkbox\" ><label for=\"sk-estimator-id-2\" class=\"sk-toggleable__label sk-toggleable__label-arrow\">estimator: Pipeline</label><div class=\"sk-toggleable__content\"><pre>Pipeline(steps=[(&#x27;undersampler&#x27;, RandomUnderSampler(random_state=2024)),\n",
              "                (&#x27;classifier&#x27;, LogisticRegression(max_iter=1000))])</pre></div></div></div><div class=\"sk-serial\"><div class=\"sk-item\"><div class=\"sk-serial\"><div class=\"sk-item\"><div class=\"sk-estimator sk-toggleable\"><input class=\"sk-toggleable__control sk-hidden--visually\" id=\"sk-estimator-id-3\" type=\"checkbox\" ><label for=\"sk-estimator-id-3\" class=\"sk-toggleable__label sk-toggleable__label-arrow\">RandomUnderSampler</label><div class=\"sk-toggleable__content\"><pre>RandomUnderSampler(random_state=2024)</pre></div></div></div><div class=\"sk-item\"><div class=\"sk-estimator sk-toggleable\"><input class=\"sk-toggleable__control sk-hidden--visually\" id=\"sk-estimator-id-4\" type=\"checkbox\" ><label for=\"sk-estimator-id-4\" class=\"sk-toggleable__label sk-toggleable__label-arrow\">LogisticRegression</label><div class=\"sk-toggleable__content\"><pre>LogisticRegression(max_iter=1000)</pre></div></div></div></div></div></div></div></div></div></div></div></div>"
            ]
          },
          "metadata": {},
          "execution_count": 25
        }
      ]
    },
    {
      "cell_type": "markdown",
      "source": [
        "We visualize the relationship between the number of features and cross-validation recall scores to better understand the impact of our feature selection:"
      ],
      "metadata": {
        "id": "JjSxrjgwx1vt"
      }
    },
    {
      "cell_type": "code",
      "source": [
        "# Access the mean test scores from the cv_results\n",
        "mean_scores = rfecv.cv_results_['mean_test_score']\n",
        "\n",
        "# Plotting the number of features versus cross-validation scores\n",
        "sns.set_style(\"whitegrid\")\n",
        "\n",
        "plt.figure(figsize=(9, 6))\n",
        "plt.plot(range(1, len(mean_scores) + 1), mean_scores, color = \"midnightblue\")\n",
        "plt.xlabel(\"Number of features selected\")\n",
        "plt.ylabel(\"Cross-validation recall score\")\n",
        "plt.title(\"Feature Selection Performance\")\n",
        "\n",
        "ax = plt.gca()\n",
        "ax.spines['top'].set_visible(False)\n",
        "ax.spines['right'].set_visible(False)\n",
        "ax.spines['left'].set_visible(False)\n",
        "ax.spines['bottom'].set_visible(False)\n",
        "\n",
        "plt.show()"
      ],
      "metadata": {
        "colab": {
          "base_uri": "https://localhost:8080/",
          "height": 564
        },
        "id": "q_zY3OME3xEf",
        "outputId": "ad47ea54-ac46-4049-c2e2-8201a33fe77c"
      },
      "execution_count": 26,
      "outputs": [
        {
          "output_type": "display_data",
          "data": {
            "text/plain": [
              "<Figure size 900x600 with 1 Axes>"
            ],
            "image/png": "[encoded data removed]"
          },
          "metadata": {}
        }
      ]
    },
    {
      "cell_type": "markdown",
      "source": [
        "The graph reveals a promising start with high recall for a small number of features, yet as more features are included, the recall begins to decline, suggesting diminishing returns. This plateau indicates that beyond a certain point, additional features do not substantially improve performance."
      ],
      "metadata": {
        "id": "wfeFbfEq4aNC"
      }
    },
    {
      "cell_type": "markdown",
      "source": [
        "### Implement Model with Selected Features\n",
        "\n",
        "Guided by the insights from our feature selection process, we proceed to implement the model using the **top 12 features** identified. This refined approach not only targets crucial feature interactions but does so without overcomplicating the model, striking an optimal balance between robustness and generalizability:"
      ],
      "metadata": {
        "id": "BNKoeCqQNSvJ"
      }
    },
    {
      "cell_type": "code",
      "source": [
        "# Feature selection using RFE\n",
        "model = LogisticRegression(max_iter=1000)\n",
        "\n",
        "# Selecting top 12 features\n",
        "rfe = RFE(model, n_features_to_select=12)\n",
        "fit = rfe.fit(X_train_undersampled, y_train_undersampled)\n",
        "selected_features = X_train_undersampled.columns[fit.support_]\n",
        "X_train_rfe = X_train_undersampled[selected_features]\n",
        "X_test_rfe = X_test[selected_features]\n",
        "\n",
        "# Train logistic regression model on selected features\n",
        "trial_model = LogisticRegression(max_iter=1000)\n",
        "trial_model.fit(X_train_rfe, y_train_undersampled)\n",
        "y_pred = trial_model.predict(X_test_rfe)\n",
        "print(\"Classification Report:\")\n",
        "print(classification_report(y_test, y_pred))"
      ],
      "metadata": {
        "colab": {
          "base_uri": "https://localhost:8080/"
        },
        "id": "ESXpHr4NN-1O",
        "outputId": "f973d445-4728-42d1-92b3-d7a44bc9db17"
      },
      "execution_count": 27,
      "outputs": [
        {
          "output_type": "stream",
          "name": "stdout",
          "text": [
            "Classification Report:\n",
            "              precision    recall  f1-score   support\n",
            "\n",
            "       False       0.99      0.46      0.63    223915\n",
            "        True       0.02      0.79      0.04      3603\n",
            "\n",
            "    accuracy                           0.47    227518\n",
            "   macro avg       0.51      0.63      0.34    227518\n",
            "weighted avg       0.98      0.47      0.62    227518\n",
            "\n"
          ]
        }
      ]
    },
    {
      "cell_type": "markdown",
      "source": [
        "The focused selection significantly enhances the model's recall for identifying true positives, achieving a recall rate of 0.79. This improvement in recall underscores the effectiveness of our strategy, enabling the model to efficiently and accurately detect fraud with a thoughtful and strategic approach."
      ],
      "metadata": {
        "id": "-MvxpgjRy1Y4"
      }
    },
    {
      "cell_type": "markdown",
      "source": [
        "## Hyperparameter Tuning with Regularization\n",
        "\n",
        "To further refine our logistic regression model, we explore the potential of regularization techniques. Regularization can help improve model performance by preventing overfitting and enhancing the model's ability to generalize. We set up a pipeline integrating undersampling with logistic regression, configured to test various combinations of **regularization strength (C)** and the **elastic net mixing parameter (l1_ratio)**. This configuration allows us to explore a spectrum from Ridge regression (l1_ratio = 0) to Lasso regression (l1_ratio = 1) and combinations in between."
      ],
      "metadata": {
        "id": "EDSgzLgbOKKI"
      }
    },
    {
      "cell_type": "code",
      "source": [
        "# Setup pipeline and GridSearchCV for hyperparameter tuning\n",
        "pipeline = ImbPipeline([\n",
        "    ('undersampler', RandomUnderSampler(random_state=2024)),\n",
        "    ('classifier', LogisticRegression(\n",
        "        penalty='elasticnet', solver='saga', max_iter=5000, random_state=2024))\n",
        "])\n",
        "\n",
        "param_grid = {\n",
        "    'classifier__C': [0.01, 0.1, 1, 10, 100],\n",
        "    'classifier__l1_ratio': [0, 0.25, 0.5, 0.75, 1]\n",
        "}\n",
        "\n",
        "\n",
        "grid_search = GridSearchCV(pipeline, param_grid, cv=5, scoring='recall', verbose=2)\n",
        "grid_search.fit(X_train_rfe, y_train_undersampled)\n",
        "print(\"Best parameters found: \", grid_search.best_params_)\n",
        "print(\"Best recall score: \", grid_search.best_score_)"
      ],
      "metadata": {
        "colab": {
          "base_uri": "https://localhost:8080/"
        },
        "id": "cajjsJFfKCb9",
        "outputId": "f5efa6ce-ccab-407e-faaa-2851f71e4b8c"
      },
      "execution_count": 28,
      "outputs": [
        {
          "output_type": "stream",
          "name": "stdout",
          "text": [
            "Fitting 5 folds for each of 25 candidates, totalling 125 fits\n",
            "[CV] END .........classifier__C=0.01, classifier__l1_ratio=0; total time=   0.1s\n",
            "[CV] END .........classifier__C=0.01, classifier__l1_ratio=0; total time=   0.1s\n",
            "[CV] END .........classifier__C=0.01, classifier__l1_ratio=0; total time=   0.1s\n",
            "[CV] END .........classifier__C=0.01, classifier__l1_ratio=0; total time=   0.1s\n",
            "[CV] END .........classifier__C=0.01, classifier__l1_ratio=0; total time=   0.1s\n",
            "[CV] END ......classifier__C=0.01, classifier__l1_ratio=0.25; total time=   0.2s\n",
            "[CV] END ......classifier__C=0.01, classifier__l1_ratio=0.25; total time=   0.3s\n",
            "[CV] END ......classifier__C=0.01, classifier__l1_ratio=0.25; total time=   0.2s\n",
            "[CV] END ......classifier__C=0.01, classifier__l1_ratio=0.25; total time=   0.2s\n",
            "[CV] END ......classifier__C=0.01, classifier__l1_ratio=0.25; total time=   0.2s\n",
            "[CV] END .......classifier__C=0.01, classifier__l1_ratio=0.5; total time=   0.2s\n",
            "[CV] END .......classifier__C=0.01, classifier__l1_ratio=0.5; total time=   0.3s\n",
            "[CV] END .......classifier__C=0.01, classifier__l1_ratio=0.5; total time=   0.2s\n",
            "[CV] END .......classifier__C=0.01, classifier__l1_ratio=0.5; total time=   0.2s\n",
            "[CV] END .......classifier__C=0.01, classifier__l1_ratio=0.5; total time=   0.3s\n",
            "[CV] END ......classifier__C=0.01, classifier__l1_ratio=0.75; total time=   0.2s\n",
            "[CV] END ......classifier__C=0.01, classifier__l1_ratio=0.75; total time=   0.2s\n",
            "[CV] END ......classifier__C=0.01, classifier__l1_ratio=0.75; total time=   0.2s\n",
            "[CV] END ......classifier__C=0.01, classifier__l1_ratio=0.75; total time=   0.2s\n",
            "[CV] END ......classifier__C=0.01, classifier__l1_ratio=0.75; total time=   0.2s\n",
            "[CV] END .........classifier__C=0.01, classifier__l1_ratio=1; total time=   0.3s\n",
            "[CV] END .........classifier__C=0.01, classifier__l1_ratio=1; total time=   0.2s\n",
            "[CV] END .........classifier__C=0.01, classifier__l1_ratio=1; total time=   0.3s\n",
            "[CV] END .........classifier__C=0.01, classifier__l1_ratio=1; total time=   0.3s\n",
            "[CV] END .........classifier__C=0.01, classifier__l1_ratio=1; total time=   0.9s\n",
            "[CV] END ..........classifier__C=0.1, classifier__l1_ratio=0; total time=   0.2s\n",
            "[CV] END ..........classifier__C=0.1, classifier__l1_ratio=0; total time=   0.1s\n",
            "[CV] END ..........classifier__C=0.1, classifier__l1_ratio=0; total time=   0.2s\n",
            "[CV] END ..........classifier__C=0.1, classifier__l1_ratio=0; total time=   0.2s\n",
            "[CV] END ..........classifier__C=0.1, classifier__l1_ratio=0; total time=   0.2s\n",
            "[CV] END .......classifier__C=0.1, classifier__l1_ratio=0.25; total time=   0.2s\n",
            "[CV] END .......classifier__C=0.1, classifier__l1_ratio=0.25; total time=   0.2s\n",
            "[CV] END .......classifier__C=0.1, classifier__l1_ratio=0.25; total time=   0.2s\n",
            "[CV] END .......classifier__C=0.1, classifier__l1_ratio=0.25; total time=   0.2s\n",
            "[CV] END .......classifier__C=0.1, classifier__l1_ratio=0.25; total time=   0.3s\n",
            "[CV] END ........classifier__C=0.1, classifier__l1_ratio=0.5; total time=   0.2s\n",
            "[CV] END ........classifier__C=0.1, classifier__l1_ratio=0.5; total time=   0.2s\n",
            "[CV] END ........classifier__C=0.1, classifier__l1_ratio=0.5; total time=   0.3s\n",
            "[CV] END ........classifier__C=0.1, classifier__l1_ratio=0.5; total time=   0.2s\n",
            "[CV] END ........classifier__C=0.1, classifier__l1_ratio=0.5; total time=   0.2s\n",
            "[CV] END .......classifier__C=0.1, classifier__l1_ratio=0.75; total time=   0.2s\n",
            "[CV] END .......classifier__C=0.1, classifier__l1_ratio=0.75; total time=   0.2s\n",
            "[CV] END .......classifier__C=0.1, classifier__l1_ratio=0.75; total time=   0.2s\n",
            "[CV] END .......classifier__C=0.1, classifier__l1_ratio=0.75; total time=   0.2s\n",
            "[CV] END .......classifier__C=0.1, classifier__l1_ratio=0.75; total time=   0.1s\n",
            "[CV] END ..........classifier__C=0.1, classifier__l1_ratio=1; total time=   0.1s\n",
            "[CV] END ..........classifier__C=0.1, classifier__l1_ratio=1; total time=   0.1s\n",
            "[CV] END ..........classifier__C=0.1, classifier__l1_ratio=1; total time=   0.1s\n",
            "[CV] END ..........classifier__C=0.1, classifier__l1_ratio=1; total time=   0.1s\n",
            "[CV] END ..........classifier__C=0.1, classifier__l1_ratio=1; total time=   0.1s\n",
            "[CV] END ............classifier__C=1, classifier__l1_ratio=0; total time=   0.1s\n",
            "[CV] END ............classifier__C=1, classifier__l1_ratio=0; total time=   0.1s\n",
            "[CV] END ............classifier__C=1, classifier__l1_ratio=0; total time=   0.1s\n",
            "[CV] END ............classifier__C=1, classifier__l1_ratio=0; total time=   0.1s\n",
            "[CV] END ............classifier__C=1, classifier__l1_ratio=0; total time=   0.1s\n",
            "[CV] END .........classifier__C=1, classifier__l1_ratio=0.25; total time=   0.1s\n",
            "[CV] END .........classifier__C=1, classifier__l1_ratio=0.25; total time=   0.1s\n",
            "[CV] END .........classifier__C=1, classifier__l1_ratio=0.25; total time=   0.1s\n",
            "[CV] END .........classifier__C=1, classifier__l1_ratio=0.25; total time=   0.1s\n",
            "[CV] END .........classifier__C=1, classifier__l1_ratio=0.25; total time=   0.1s\n",
            "[CV] END ..........classifier__C=1, classifier__l1_ratio=0.5; total time=   0.1s\n",
            "[CV] END ..........classifier__C=1, classifier__l1_ratio=0.5; total time=   0.1s\n",
            "[CV] END ..........classifier__C=1, classifier__l1_ratio=0.5; total time=   0.1s\n",
            "[CV] END ..........classifier__C=1, classifier__l1_ratio=0.5; total time=   0.1s\n",
            "[CV] END ..........classifier__C=1, classifier__l1_ratio=0.5; total time=   0.1s\n",
            "[CV] END .........classifier__C=1, classifier__l1_ratio=0.75; total time=   0.2s\n",
            "[CV] END .........classifier__C=1, classifier__l1_ratio=0.75; total time=   0.2s\n",
            "[CV] END .........classifier__C=1, classifier__l1_ratio=0.75; total time=   0.1s\n",
            "[CV] END .........classifier__C=1, classifier__l1_ratio=0.75; total time=   0.1s\n",
            "[CV] END .........classifier__C=1, classifier__l1_ratio=0.75; total time=   0.1s\n",
            "[CV] END ............classifier__C=1, classifier__l1_ratio=1; total time=   0.2s\n",
            "[CV] END ............classifier__C=1, classifier__l1_ratio=1; total time=   0.2s\n",
            "[CV] END ............classifier__C=1, classifier__l1_ratio=1; total time=   0.2s\n",
            "[CV] END ............classifier__C=1, classifier__l1_ratio=1; total time=   0.1s\n",
            "[CV] END ............classifier__C=1, classifier__l1_ratio=1; total time=   0.1s\n",
            "[CV] END ...........classifier__C=10, classifier__l1_ratio=0; total time=   0.2s\n",
            "[CV] END ...........classifier__C=10, classifier__l1_ratio=0; total time=   0.2s\n",
            "[CV] END ...........classifier__C=10, classifier__l1_ratio=0; total time=   0.2s\n",
            "[CV] END ...........classifier__C=10, classifier__l1_ratio=0; total time=   0.2s\n",
            "[CV] END ...........classifier__C=10, classifier__l1_ratio=0; total time=   0.2s\n",
            "[CV] END ........classifier__C=10, classifier__l1_ratio=0.25; total time=   0.2s\n",
            "[CV] END ........classifier__C=10, classifier__l1_ratio=0.25; total time=   0.2s\n",
            "[CV] END ........classifier__C=10, classifier__l1_ratio=0.25; total time=   0.2s\n",
            "[CV] END ........classifier__C=10, classifier__l1_ratio=0.25; total time=   0.2s\n",
            "[CV] END ........classifier__C=10, classifier__l1_ratio=0.25; total time=   0.2s\n",
            "[CV] END .........classifier__C=10, classifier__l1_ratio=0.5; total time=   0.2s\n",
            "[CV] END .........classifier__C=10, classifier__l1_ratio=0.5; total time=   0.2s\n",
            "[CV] END .........classifier__C=10, classifier__l1_ratio=0.5; total time=   0.2s\n",
            "[CV] END .........classifier__C=10, classifier__l1_ratio=0.5; total time=   0.3s\n",
            "[CV] END .........classifier__C=10, classifier__l1_ratio=0.5; total time=   0.2s\n",
            "[CV] END ........classifier__C=10, classifier__l1_ratio=0.75; total time=   0.3s\n",
            "[CV] END ........classifier__C=10, classifier__l1_ratio=0.75; total time=   0.3s\n",
            "[CV] END ........classifier__C=10, classifier__l1_ratio=0.75; total time=   0.3s\n",
            "[CV] END ........classifier__C=10, classifier__l1_ratio=0.75; total time=   0.3s\n",
            "[CV] END ........classifier__C=10, classifier__l1_ratio=0.75; total time=   0.3s\n",
            "[CV] END ...........classifier__C=10, classifier__l1_ratio=1; total time=   0.4s\n",
            "[CV] END ...........classifier__C=10, classifier__l1_ratio=1; total time=   0.4s\n",
            "[CV] END ...........classifier__C=10, classifier__l1_ratio=1; total time=   0.7s\n",
            "[CV] END ...........classifier__C=10, classifier__l1_ratio=1; total time=   0.7s\n",
            "[CV] END ...........classifier__C=10, classifier__l1_ratio=1; total time=   0.7s\n",
            "[CV] END ..........classifier__C=100, classifier__l1_ratio=0; total time=   0.8s\n",
            "[CV] END ..........classifier__C=100, classifier__l1_ratio=0; total time=   0.8s\n",
            "[CV] END ..........classifier__C=100, classifier__l1_ratio=0; total time=   0.9s\n",
            "[CV] END ..........classifier__C=100, classifier__l1_ratio=0; total time=   0.9s\n",
            "[CV] END ..........classifier__C=100, classifier__l1_ratio=0; total time=   0.9s\n",
            "[CV] END .......classifier__C=100, classifier__l1_ratio=0.25; total time=   1.2s\n",
            "[CV] END .......classifier__C=100, classifier__l1_ratio=0.25; total time=   1.2s\n",
            "[CV] END .......classifier__C=100, classifier__l1_ratio=0.25; total time=   0.8s\n",
            "[CV] END .......classifier__C=100, classifier__l1_ratio=0.25; total time=   0.7s\n",
            "[CV] END .......classifier__C=100, classifier__l1_ratio=0.25; total time=   0.7s\n",
            "[CV] END ........classifier__C=100, classifier__l1_ratio=0.5; total time=   0.8s\n",
            "[CV] END ........classifier__C=100, classifier__l1_ratio=0.5; total time=   0.8s\n",
            "[CV] END ........classifier__C=100, classifier__l1_ratio=0.5; total time=   0.8s\n",
            "[CV] END ........classifier__C=100, classifier__l1_ratio=0.5; total time=   0.8s\n",
            "[CV] END ........classifier__C=100, classifier__l1_ratio=0.5; total time=   0.8s\n",
            "[CV] END .......classifier__C=100, classifier__l1_ratio=0.75; total time=   1.0s\n",
            "[CV] END .......classifier__C=100, classifier__l1_ratio=0.75; total time=   1.0s\n",
            "[CV] END .......classifier__C=100, classifier__l1_ratio=0.75; total time=   1.0s\n",
            "[CV] END .......classifier__C=100, classifier__l1_ratio=0.75; total time=   1.0s\n",
            "[CV] END .......classifier__C=100, classifier__l1_ratio=0.75; total time=   1.5s\n",
            "[CV] END ..........classifier__C=100, classifier__l1_ratio=1; total time=   2.8s\n",
            "[CV] END ..........classifier__C=100, classifier__l1_ratio=1; total time=   2.9s\n",
            "[CV] END ..........classifier__C=100, classifier__l1_ratio=1; total time=   2.6s\n",
            "[CV] END ..........classifier__C=100, classifier__l1_ratio=1; total time=   1.5s\n",
            "[CV] END ..........classifier__C=100, classifier__l1_ratio=1; total time=   1.5s\n",
            "Best parameters found:  {'classifier__C': 0.1, 'classifier__l1_ratio': 1}\n",
            "Best recall score:  0.7918068476587867\n"
          ]
        }
      ]
    },
    {
      "cell_type": "markdown",
      "source": [
        "The initial results indicate the best combination achieves a recall of approximately 0.79."
      ],
      "metadata": {
        "id": "XE2cwSoZz2bl"
      }
    },
    {
      "cell_type": "markdown",
      "source": [
        "### Explore More Focused Parameter Grid\n",
        "\n",
        "We refined our parameter grid to fine-tune these settings further:"
      ],
      "metadata": {
        "id": "iyZcKqhLPSop"
      }
    },
    {
      "cell_type": "code",
      "source": [
        "# Updated parameter grid\n",
        "param_grid_refined = {\n",
        "    'classifier__C': [0.05, 0.1, 0.15, 0.2, 0.25],\n",
        "    'classifier__l1_ratio': [0.75, 0.85, 0.95, 1]\n",
        "}\n",
        "\n",
        "# Configure the GridSearchCV with refined parameters\n",
        "grid_search_refined = GridSearchCV(\n",
        "    pipeline,\n",
        "    param_grid_refined,\n",
        "    cv=5,\n",
        "    scoring='recall',\n",
        "    verbose=2\n",
        ")\n",
        "\n",
        "# Fit GridSearchCV on the training data using selected features\n",
        "grid_search_refined.fit(X_train_rfe, y_train_undersampled)\n",
        "\n",
        "# Output the best parameters and recall score from the refined search\n",
        "print(\"Refined Best parameters found: \", grid_search_refined.best_params_)\n",
        "print(\"Refined Best f1 score: \", grid_search_refined.best_score_)"
      ],
      "metadata": {
        "colab": {
          "base_uri": "https://localhost:8080/"
        },
        "id": "C8haOHicC6uU",
        "outputId": "b54af2da-2526-4819-aa41-d6d985034321"
      },
      "execution_count": 29,
      "outputs": [
        {
          "output_type": "stream",
          "name": "stdout",
          "text": [
            "Fitting 5 folds for each of 20 candidates, totalling 100 fits\n",
            "[CV] END ......classifier__C=0.05, classifier__l1_ratio=0.75; total time=   0.1s\n",
            "[CV] END ......classifier__C=0.05, classifier__l1_ratio=0.75; total time=   0.1s\n",
            "[CV] END ......classifier__C=0.05, classifier__l1_ratio=0.75; total time=   0.1s\n",
            "[CV] END ......classifier__C=0.05, classifier__l1_ratio=0.75; total time=   0.1s\n",
            "[CV] END ......classifier__C=0.05, classifier__l1_ratio=0.75; total time=   0.1s\n",
            "[CV] END ......classifier__C=0.05, classifier__l1_ratio=0.85; total time=   0.2s\n",
            "[CV] END ......classifier__C=0.05, classifier__l1_ratio=0.85; total time=   0.2s\n",
            "[CV] END ......classifier__C=0.05, classifier__l1_ratio=0.85; total time=   0.1s\n",
            "[CV] END ......classifier__C=0.05, classifier__l1_ratio=0.85; total time=   0.1s\n",
            "[CV] END ......classifier__C=0.05, classifier__l1_ratio=0.85; total time=   0.1s\n",
            "[CV] END ......classifier__C=0.05, classifier__l1_ratio=0.95; total time=   0.2s\n",
            "[CV] END ......classifier__C=0.05, classifier__l1_ratio=0.95; total time=   0.1s\n",
            "[CV] END ......classifier__C=0.05, classifier__l1_ratio=0.95; total time=   0.1s\n",
            "[CV] END ......classifier__C=0.05, classifier__l1_ratio=0.95; total time=   0.1s\n",
            "[CV] END ......classifier__C=0.05, classifier__l1_ratio=0.95; total time=   0.1s\n",
            "[CV] END .........classifier__C=0.05, classifier__l1_ratio=1; total time=   0.2s\n",
            "[CV] END .........classifier__C=0.05, classifier__l1_ratio=1; total time=   0.1s\n",
            "[CV] END .........classifier__C=0.05, classifier__l1_ratio=1; total time=   0.1s\n",
            "[CV] END .........classifier__C=0.05, classifier__l1_ratio=1; total time=   0.1s\n",
            "[CV] END .........classifier__C=0.05, classifier__l1_ratio=1; total time=   0.2s\n",
            "[CV] END .......classifier__C=0.1, classifier__l1_ratio=0.75; total time=   0.2s\n",
            "[CV] END .......classifier__C=0.1, classifier__l1_ratio=0.75; total time=   0.1s\n",
            "[CV] END .......classifier__C=0.1, classifier__l1_ratio=0.75; total time=   0.1s\n",
            "[CV] END .......classifier__C=0.1, classifier__l1_ratio=0.75; total time=   0.1s\n",
            "[CV] END .......classifier__C=0.1, classifier__l1_ratio=0.75; total time=   0.2s\n",
            "[CV] END .......classifier__C=0.1, classifier__l1_ratio=0.85; total time=   0.1s\n",
            "[CV] END .......classifier__C=0.1, classifier__l1_ratio=0.85; total time=   0.2s\n",
            "[CV] END .......classifier__C=0.1, classifier__l1_ratio=0.85; total time=   0.2s\n",
            "[CV] END .......classifier__C=0.1, classifier__l1_ratio=0.85; total time=   0.1s\n",
            "[CV] END .......classifier__C=0.1, classifier__l1_ratio=0.85; total time=   0.1s\n",
            "[CV] END .......classifier__C=0.1, classifier__l1_ratio=0.95; total time=   0.1s\n",
            "[CV] END .......classifier__C=0.1, classifier__l1_ratio=0.95; total time=   0.1s\n",
            "[CV] END .......classifier__C=0.1, classifier__l1_ratio=0.95; total time=   0.1s\n",
            "[CV] END .......classifier__C=0.1, classifier__l1_ratio=0.95; total time=   0.1s\n",
            "[CV] END .......classifier__C=0.1, classifier__l1_ratio=0.95; total time=   0.2s\n",
            "[CV] END ..........classifier__C=0.1, classifier__l1_ratio=1; total time=   0.2s\n",
            "[CV] END ..........classifier__C=0.1, classifier__l1_ratio=1; total time=   0.1s\n",
            "[CV] END ..........classifier__C=0.1, classifier__l1_ratio=1; total time=   0.1s\n",
            "[CV] END ..........classifier__C=0.1, classifier__l1_ratio=1; total time=   0.1s\n",
            "[CV] END ..........classifier__C=0.1, classifier__l1_ratio=1; total time=   0.2s\n",
            "[CV] END ......classifier__C=0.15, classifier__l1_ratio=0.75; total time=   0.1s\n",
            "[CV] END ......classifier__C=0.15, classifier__l1_ratio=0.75; total time=   0.2s\n",
            "[CV] END ......classifier__C=0.15, classifier__l1_ratio=0.75; total time=   0.2s\n",
            "[CV] END ......classifier__C=0.15, classifier__l1_ratio=0.75; total time=   0.2s\n",
            "[CV] END ......classifier__C=0.15, classifier__l1_ratio=0.75; total time=   0.2s\n",
            "[CV] END ......classifier__C=0.15, classifier__l1_ratio=0.85; total time=   0.2s\n",
            "[CV] END ......classifier__C=0.15, classifier__l1_ratio=0.85; total time=   0.2s\n",
            "[CV] END ......classifier__C=0.15, classifier__l1_ratio=0.85; total time=   0.2s\n",
            "[CV] END ......classifier__C=0.15, classifier__l1_ratio=0.85; total time=   0.2s\n",
            "[CV] END ......classifier__C=0.15, classifier__l1_ratio=0.85; total time=   0.2s\n",
            "[CV] END ......classifier__C=0.15, classifier__l1_ratio=0.95; total time=   0.2s\n",
            "[CV] END ......classifier__C=0.15, classifier__l1_ratio=0.95; total time=   0.2s\n",
            "[CV] END ......classifier__C=0.15, classifier__l1_ratio=0.95; total time=   0.2s\n",
            "[CV] END ......classifier__C=0.15, classifier__l1_ratio=0.95; total time=   0.2s\n",
            "[CV] END ......classifier__C=0.15, classifier__l1_ratio=0.95; total time=   0.2s\n",
            "[CV] END .........classifier__C=0.15, classifier__l1_ratio=1; total time=   0.2s\n",
            "[CV] END .........classifier__C=0.15, classifier__l1_ratio=1; total time=   0.2s\n",
            "[CV] END .........classifier__C=0.15, classifier__l1_ratio=1; total time=   0.2s\n",
            "[CV] END .........classifier__C=0.15, classifier__l1_ratio=1; total time=   0.2s\n",
            "[CV] END .........classifier__C=0.15, classifier__l1_ratio=1; total time=   0.3s\n",
            "[CV] END .......classifier__C=0.2, classifier__l1_ratio=0.75; total time=   0.3s\n",
            "[CV] END .......classifier__C=0.2, classifier__l1_ratio=0.75; total time=   0.3s\n",
            "[CV] END .......classifier__C=0.2, classifier__l1_ratio=0.75; total time=   0.3s\n",
            "[CV] END .......classifier__C=0.2, classifier__l1_ratio=0.75; total time=   0.2s\n",
            "[CV] END .......classifier__C=0.2, classifier__l1_ratio=0.75; total time=   0.2s\n",
            "[CV] END .......classifier__C=0.2, classifier__l1_ratio=0.85; total time=   0.2s\n",
            "[CV] END .......classifier__C=0.2, classifier__l1_ratio=0.85; total time=   0.2s\n",
            "[CV] END .......classifier__C=0.2, classifier__l1_ratio=0.85; total time=   0.2s\n",
            "[CV] END .......classifier__C=0.2, classifier__l1_ratio=0.85; total time=   0.2s\n",
            "[CV] END .......classifier__C=0.2, classifier__l1_ratio=0.85; total time=   0.2s\n",
            "[CV] END .......classifier__C=0.2, classifier__l1_ratio=0.95; total time=   0.2s\n",
            "[CV] END .......classifier__C=0.2, classifier__l1_ratio=0.95; total time=   0.3s\n",
            "[CV] END .......classifier__C=0.2, classifier__l1_ratio=0.95; total time=   0.3s\n",
            "[CV] END .......classifier__C=0.2, classifier__l1_ratio=0.95; total time=   0.3s\n",
            "[CV] END .......classifier__C=0.2, classifier__l1_ratio=0.95; total time=   0.3s\n",
            "[CV] END ..........classifier__C=0.2, classifier__l1_ratio=1; total time=   0.3s\n",
            "[CV] END ..........classifier__C=0.2, classifier__l1_ratio=1; total time=   0.2s\n",
            "[CV] END ..........classifier__C=0.2, classifier__l1_ratio=1; total time=   0.2s\n",
            "[CV] END ..........classifier__C=0.2, classifier__l1_ratio=1; total time=   0.2s\n",
            "[CV] END ..........classifier__C=0.2, classifier__l1_ratio=1; total time=   0.2s\n",
            "[CV] END ......classifier__C=0.25, classifier__l1_ratio=0.75; total time=   0.2s\n",
            "[CV] END ......classifier__C=0.25, classifier__l1_ratio=0.75; total time=   0.2s\n",
            "[CV] END ......classifier__C=0.25, classifier__l1_ratio=0.75; total time=   0.3s\n",
            "[CV] END ......classifier__C=0.25, classifier__l1_ratio=0.75; total time=   0.2s\n",
            "[CV] END ......classifier__C=0.25, classifier__l1_ratio=0.75; total time=   0.2s\n",
            "[CV] END ......classifier__C=0.25, classifier__l1_ratio=0.85; total time=   0.1s\n",
            "[CV] END ......classifier__C=0.25, classifier__l1_ratio=0.85; total time=   0.1s\n",
            "[CV] END ......classifier__C=0.25, classifier__l1_ratio=0.85; total time=   0.1s\n",
            "[CV] END ......classifier__C=0.25, classifier__l1_ratio=0.85; total time=   0.2s\n",
            "[CV] END ......classifier__C=0.25, classifier__l1_ratio=0.85; total time=   0.1s\n",
            "[CV] END ......classifier__C=0.25, classifier__l1_ratio=0.95; total time=   0.1s\n",
            "[CV] END ......classifier__C=0.25, classifier__l1_ratio=0.95; total time=   0.1s\n",
            "[CV] END ......classifier__C=0.25, classifier__l1_ratio=0.95; total time=   0.1s\n",
            "[CV] END ......classifier__C=0.25, classifier__l1_ratio=0.95; total time=   0.1s\n",
            "[CV] END ......classifier__C=0.25, classifier__l1_ratio=0.95; total time=   0.1s\n",
            "[CV] END .........classifier__C=0.25, classifier__l1_ratio=1; total time=   0.2s\n",
            "[CV] END .........classifier__C=0.25, classifier__l1_ratio=1; total time=   0.1s\n",
            "[CV] END .........classifier__C=0.25, classifier__l1_ratio=1; total time=   0.1s\n",
            "[CV] END .........classifier__C=0.25, classifier__l1_ratio=1; total time=   0.1s\n",
            "[CV] END .........classifier__C=0.25, classifier__l1_ratio=1; total time=   0.1s\n",
            "Refined Best parameters found:  {'classifier__C': 0.1, 'classifier__l1_ratio': 0.95}\n",
            "Refined Best f1 score:  0.7918068476587867\n"
          ]
        }
      ]
    },
    {
      "cell_type": "markdown",
      "source": [
        "Although the refined search confirms the optimal settings around a recall of 0.79, this detailed optimization process importantly ensures our model is robust and well-calibrated."
      ],
      "metadata": {
        "id": "2qm36v_30Vd7"
      }
    },
    {
      "cell_type": "code",
      "source": [
        "# Evaluate the best model on the test set\n",
        "best_model = grid_search_refined.best_estimator_\n",
        "y_pred_final = best_model.predict(X_test_rfe)\n",
        "print(\"Classification Report on Test Data:\")\n",
        "print(classification_report(y_test, y_pred_final))"
      ],
      "metadata": {
        "colab": {
          "base_uri": "https://localhost:8080/"
        },
        "id": "EObGIxJGKCev",
        "outputId": "1db5f6a3-5709-471e-ed32-d8dada808a54"
      },
      "execution_count": 30,
      "outputs": [
        {
          "output_type": "stream",
          "name": "stdout",
          "text": [
            "Classification Report on Test Data:\n",
            "              precision    recall  f1-score   support\n",
            "\n",
            "       False       0.99      0.46      0.63    223915\n",
            "        True       0.02      0.79      0.04      3603\n",
            "\n",
            "    accuracy                           0.47    227518\n",
            "   macro avg       0.51      0.62      0.34    227518\n",
            "weighted avg       0.98      0.47      0.62    227518\n",
            "\n"
          ]
        }
      ]
    },
    {
      "cell_type": "markdown",
      "source": [
        "While the improvements in recall were modest, incorporating regularization has significantly bolstered our model's robustness, preventing overfitting and enhancing its ability to generalize to unseen data. Armed with this refined model, we now turn our attention to optimizing decision thresholds to further enhance our model's fraud detection capabilities."
      ],
      "metadata": {
        "id": "f1nAe5oq7gUw"
      }
    },
    {
      "cell_type": "markdown",
      "source": [
        "## Threshold Optimization\n",
        "\n",
        "As we refine our fraud detection model, understanding how different decision thresholds affect our key metrics—precision, recall, and the F1 score—is essential. These metrics help us evaluate the trade-offs and potential impacts of various threshold settings on our model's performance.\n",
        "\n",
        "To explore these dynamics, we chart the progression of precision, recall, and F1 scores as we adjust the decision threshold. This analysis is crucial for balancing the sensitivity of our model (its ability to identify fraud accurately) with its specificity (its ability to ignore non-fraudulent transactions)."
      ],
      "metadata": {
        "id": "pyZys2YrSUXD"
      }
    },
    {
      "cell_type": "code",
      "source": [
        "def evaluate_thresholds(probabilities, y_true):\n",
        "    precision, recall, thresholds = precision_recall_curve(y_true, probabilities)\n",
        "    f1_scores = 2 * (precision * recall) / (precision + recall)\n",
        "\n",
        "    # Plot precision-recall curve\n",
        "    plt.figure(figsize=(9, 6))\n",
        "    plt.plot(thresholds, precision[:-1], 'midnightblue', label='Precision')\n",
        "    plt.plot(thresholds, recall[:-1], 'firebrick', label='Recall')\n",
        "    plt.plot(thresholds, f1_scores[:-1], 'forestgreen', label='F1 Score')\n",
        "    plt.xlabel('Threshold')\n",
        "    plt.ylabel('Score')\n",
        "    plt.title('Precision, Recall, and F1 Score as a function of the decision threshold')\n",
        "    plt.legend(loc='best')\n",
        "    plt.grid(True)\n",
        "    plt.show()\n",
        "\n",
        "    return precision, recall, thresholds, f1_scores\n",
        "\n",
        "# Get probability scores from your model\n",
        "probability_scores = best_model.predict_proba(X_test_rfe)[:, 1]\n",
        "\n",
        "# Evaluate the model at various thresholds\n",
        "precision, recall, thresholds, f1_scores = evaluate_thresholds(probability_scores, y_test)"
      ],
      "metadata": {
        "id": "MaYhoJIvDJ8U",
        "colab": {
          "base_uri": "https://localhost:8080/",
          "height": 564
        },
        "outputId": "3cba59d3-4593-4526-a081-62399509d58f"
      },
      "execution_count": 31,
      "outputs": [
        {
          "output_type": "display_data",
          "data": {
            "text/plain": [
              "<Figure size 900x600 with 1 Axes>"
            ],
            "image/png": "[encoded data removed]"
          },
          "metadata": {}
        }
      ]
    },
    {
      "cell_type": "markdown",
      "source": [
        "After thoughtful analysis of different decision thresholds, we've decided to **shift our threshold from 0.5 to 0.4**. This adjustment significantly elevates the recall to 0.89, dramatically improving our model’s ability to identify fraudulent transactions. While this change does indeed reduce precision—introducing a higher frequency of false positives—the benefit of capturing a greater proportion of actual fraud cases outweighs the cost. Opting for a 0.4 threshold strategically emphasizes our commitment to minimizing fraud incidence, ensuring that our detection system is attuned to prioritize security even at the expense of some over-detection."
      ],
      "metadata": {
        "id": "x9B1nQqt9WkV"
      }
    },
    {
      "cell_type": "code",
      "source": [
        "# Get the probability scores for the positive class\n",
        "probas = best_model.predict_proba(X_test_rfe)[:, 1]\n",
        "\n",
        "# Define the new threshold\n",
        "new_threshold = 0.4\n",
        "\n",
        "# Generate predictions based on the new threshold\n",
        "y_pred_adjusted = (probas >= new_threshold).astype(int)\n",
        "\n",
        "# Generate evaluation metrics\n",
        "print(\"Classification Report for Adjusted Threshold = 0.4:\")\n",
        "print(classification_report(y_test, y_pred_adjusted))"
      ],
      "metadata": {
        "colab": {
          "base_uri": "https://localhost:8080/"
        },
        "id": "e6IfrPdeD1kQ",
        "outputId": "4cd72526-e8bb-4cd8-9283-92a1b2fd2311"
      },
      "execution_count": 32,
      "outputs": [
        {
          "output_type": "stream",
          "name": "stdout",
          "text": [
            "Classification Report for Adjusted Threshold = 0.4:\n",
            "              precision    recall  f1-score   support\n",
            "\n",
            "       False       0.99      0.33      0.49    223915\n",
            "        True       0.02      0.89      0.04      3603\n",
            "\n",
            "    accuracy                           0.34    227518\n",
            "   macro avg       0.51      0.61      0.27    227518\n",
            "weighted avg       0.98      0.34      0.49    227518\n",
            "\n"
          ]
        }
      ]
    },
    {
      "cell_type": "markdown",
      "source": [
        "## Interpret Final Model\n",
        "\n",
        "After putting in considerable effort to refine our model, we now turn our attention to the coefficients to unpack how different features influence the likelihood of fraud. This analysis is vital, helping us illuminate the nuanced relationships that define our predictions and guide our understanding of fraud's underlying patterns."
      ],
      "metadata": {
        "id": "Icse-uEoWCmq"
      }
    },
    {
      "cell_type": "code",
      "source": [
        "# Extract the classifier step from the pipeline\n",
        "classifier = best_model.named_steps['classifier']\n",
        "\n",
        "# Get coefficients\n",
        "coefficients = classifier.coef_[0]\n",
        "\n",
        "# Ensure feature_names are those used in the model\n",
        "feature_names = X_train_rfe.columns\n",
        "\n",
        "# Create a DataFrame to view the features and their corresponding coefficients\n",
        "coef_df = pd.DataFrame({\n",
        "    'Feature': feature_names,\n",
        "    'Coefficient': coefficients\n",
        "}).sort_values(by='Coefficient', ascending=False)\n",
        "\n",
        "# Display the DataFrame sorted by the absolute values of coefficients to see the most influential features\n",
        "coef_df['abs_coefficient'] = coef_df['Coefficient'].abs()\n",
        "coef_df.sort_values('abs_coefficient', ascending=False, inplace=True)\n",
        "coef_df.drop('abs_coefficient', axis=1, inplace=True)\n",
        "\n",
        "print(coef_df)"
      ],
      "metadata": {
        "colab": {
          "base_uri": "https://localhost:8080/"
        },
        "id": "kX1NUliFBBy5",
        "outputId": "12d024b2-2d22-407a-e16f-412f29969c46"
      },
      "execution_count": 33,
      "outputs": [
        {
          "output_type": "stream",
          "name": "stdout",
          "text": [
            "                                      Feature  Coefficient\n",
            "6                   merchantCategoryCode_fuel    -2.852789\n",
            "8             merchantCategoryCode_mobileapps    -2.280612\n",
            "10  merchantCategoryCode_online_subscriptions    -2.156744\n",
            "5          merchantCategoryCode_food_delivery    -1.542162\n",
            "3                merchantCategoryCode_airline     1.064175\n",
            "1                             posEntryMode_05    -0.892227\n",
            "0                 merchantCountryCode_Unknown     0.816081\n",
            "2        transactionType_ADDRESS_VERIFICATION    -0.756163\n",
            "9          merchantCategoryCode_online_retail     0.693878\n",
            "11             merchantCategoryCode_rideshare     0.692757\n",
            "4            merchantCategoryCode_cable/phone     0.000000\n",
            "7                    merchantCategoryCode_gym     0.000000\n"
          ]
        }
      ]
    },
    {
      "cell_type": "markdown",
      "source": [
        "This table is sorted by the absolute value of the coefficients, which helps us identify the most influential features at a glance.\n",
        "\n",
        "Next, we bring these insights into a visual context:"
      ],
      "metadata": {
        "id": "Q1PdKk0i9l9m"
      }
    },
    {
      "cell_type": "code",
      "source": [
        "# Visualize feature importance\n",
        "plt.figure(figsize=(9, 6))\n",
        "sns.set_style(\"whitegrid\")\n",
        "\n",
        "# Create the scatterplot\n",
        "sns.scatterplot(data=coef_df, y='Feature', x='Coefficient', color='midnightblue', s=100)\n",
        "\n",
        "# Add a vertical line at x=0\n",
        "plt.axvline(x=0, color='darkgrey', linestyle='--')\n",
        "\n",
        "# Setting labels and title\n",
        "plt.xlabel('Coefficient')\n",
        "plt.ylabel('Feature')\n",
        "plt.title('Feature Importance')\n",
        "\n",
        "# Remove the outer spines\n",
        "ax = plt.gca()\n",
        "ax.spines['top'].set_visible(False)\n",
        "ax.spines['right'].set_visible(False)\n",
        "ax.spines['left'].set_visible(False)\n",
        "ax.spines['bottom'].set_visible(False)\n",
        "\n",
        "plt.show()"
      ],
      "metadata": {
        "colab": {
          "base_uri": "https://localhost:8080/",
          "height": 564
        },
        "id": "9LzLMCINOBiU",
        "outputId": "b6579bec-110a-4304-b161-7aac3e5889e4"
      },
      "execution_count": 34,
      "outputs": [
        {
          "output_type": "display_data",
          "data": {
            "text/plain": [
              "<Figure size 900x600 with 1 Axes>"
            ],
            "image/png": "[encoded data removed]"
          },
          "metadata": {}
        }
      ]
    },
    {
      "cell_type": "markdown",
      "source": [
        "In this scatter plot, features positioned to the left of the zero line — such as **fuel**, **mobile apps**, **online subscriptions**, **food delivery**, **POS Entry Mode 05** (where a chip-enabled card is physically inserted into a chip reader), and **address verification** (a process where a merchant verifies the cardholder's address with the card issuer to prevent fraud) — exhibit negative coefficients. This indicates they are associated with a decreased likelihood of fraud, serving as strong protective factors. Conversely, features on the right, notably in the **airline**, **online retail**, and **rideshare** categories, along with transactions from **unknown merchant countries**, show positive coefficients, highlighting a higher risk of fraud in these areas."
      ],
      "metadata": {
        "id": "8z8tn0Q5-mnj"
      }
    },
    {
      "cell_type": "markdown",
      "source": [
        "## Assessing Economic Impact\n",
        "\n",
        "As our exploration reaches its conclusion, we reintegrate the predicted labels back into the test dataset to assess the tangible economic impact of accurately identified fraudulent transactions."
      ],
      "metadata": {
        "id": "VBArenB0xxPl"
      }
    },
    {
      "cell_type": "code",
      "source": [
        "# Make a copy to avoid modifying the original DataFrame directly\n",
        "X_test_adjusted = X_test_rfe.copy()\n",
        "\n",
        "# Add the predicted labels back to the test data safely\n",
        "X_test_adjusted['predicted_fraud'] = y_pred_adjusted\n",
        "X_test_adjusted['true_fraud'] = y_test\n",
        "X_test_adjusted['transactionAmount'] = df_cleaned.loc[X_test_rfe.index, 'transactionAmount']\n",
        "\n",
        "# Filter for the successfully identified fraudulent transactions\n",
        "identified_frauds = X_test_adjusted[(X_test_adjusted['predicted_fraud'] == 1) & (X_test_adjusted['true_fraud'] == 1)].copy()\n",
        "\n",
        "# Convert normalized transaction amounts back to original scale\n",
        "mean_transaction_amount = 136.8636388221906\n",
        "std_transaction_amount = 147.71894888437023\n",
        "identified_frauds['original_transactionAmount'] = identified_frauds['transactionAmount'] * std_transaction_amount + mean_transaction_amount\n",
        "\n",
        "# Safely modify the DataFrame by specifying the index\n",
        "identified_frauds.loc[:, 'original_transactionAmount'] = identified_frauds['transactionAmount'] * std_transaction_amount + mean_transaction_amount\n",
        "\n",
        "# Sum the original transaction amounts for identified fraudulent transactions\n",
        "total_fraud_amount_identified_original = identified_frauds['original_transactionAmount'].sum()\n",
        "\n",
        "print(f\"Total amount of fraudulently identified transactions on original scale: ${total_fraud_amount_identified_original:.2f}\")"
      ],
      "metadata": {
        "colab": {
          "base_uri": "https://localhost:8080/"
        },
        "id": "ZfO_DFBdxxaR",
        "outputId": "2fff6abe-326a-401c-96da-07695aad7849"
      },
      "execution_count": 35,
      "outputs": [
        {
          "output_type": "stream",
          "name": "stdout",
          "text": [
            "Total amount of fraudulently identified transactions on original scale: $748347.75\n"
          ]
        }
      ]
    },
    {
      "cell_type": "markdown",
      "source": [
        "This method has revealed approximately **$748,348** in fraudulent transactions, underlining the significant economic benefits derived from our predictive model. This detection equates to a protective measure safeguarding nearly three-quarters of a million dollars, thereby illustrating the profound impact and value of our fraud detection efforts."
      ],
      "metadata": {
        "id": "Cfm-0JQX0YHf"
      }
    },
    {
      "cell_type": "markdown",
      "source": [
        "## Part III: Insights and Strategic Recommendations\n",
        "\n",
        "As we wrap up our comprehensive examination of credit card fraud detection, we've derived critical insights that are instrumental in formulating strategies to enhance digital financial security:"
      ],
      "metadata": {
        "id": "fl5DW7E8Kjy6"
      }
    },
    {
      "cell_type": "markdown",
      "source": [
        "## Insights from Model Analysis\n",
        "\n",
        "- **Contextual Significance in Fraud Detection**: Our investigation highlights the crucial role of transactional context in identifying fraud risks. Categories such as airlines, online retail, and rideshare, along with transactions originating from unknown merchant countries, are notably prone to fraud.\n",
        "\n",
        "- **Safeguards Against Fraud**: Contrarily, categories like fuel, mobile apps, online subscriptions, and food delivery, particularly when coupled with secure transaction methods such as POS Entry Mode 05 and address verification, markedly reduce the likelihood of fraud. These elements serve as strong protective barriers.\n",
        "\n",
        "- **Addressing Class Imbalance**: The stark imbalance between fraudulent and legitimate transactions initially skewed our models. Utilizing under-sampling techniques refined our approach, enhancing model performance—evident from a recall improvement from 0.07 to 0.70.\n",
        "\n",
        "- **Refinement through Feature Selection**: Narrowing our focus to 12 critical features boosted our recall score to 0.79, underscoring the importance of precise feature selection in model efficacy.\n",
        "\n",
        "- **Stabilization via Regularization**: Incorporating Elastic Net regression with an l1 ratio of 0.95 and C of 0.1 brought substantial stability to our model. While it did not significantly enhance recall, it ensured the model's robustness and reliability in fraud prediction.\n",
        "\n",
        "- **Optimizing Detection through Threshold Adjustments**: By modifying the decision threshold to 0.4, we achieved a recall of 0.89, markedly increasing the model's sensitivity in detecting fraudulent activities effectively."
      ],
      "metadata": {
        "id": "jDEyAwVcOPzh"
      }
    },
    {
      "cell_type": "markdown",
      "source": [
        "## Strategic Recommendations\n",
        "\n",
        "- **Targeted Monitoring for High-risk Transactions**: Instituting specialized monitoring for identified high-risk categories can substantially heighten fraud detection accuracy. This should include a focus on real-time data analysis and anomaly detection.\n",
        "\n",
        "- **Adaptive Fraud Detection Mechanisms**: We advocate for the development of adaptable fraud detection systems that dynamically adjust based on the risk profile of each transaction. This would involve enhancing algorithms to integrate real-time assessments and historical data.\n",
        "\n",
        "- **Enhancement of Transaction Security**: Promoting secure transaction methodologies, such as chip-enabled POS entries and rigorous address verification processes, is crucial. Increasing awareness among stakeholders about the security benefits of these measures can further mitigate fraud risks.\n",
        "\n",
        "- **Dynamic Adjustment of Detection Thresholds**: Leveraging ongoing data analyses to dynamically fine-tune fraud detection thresholds will help balance minimizing false positives while effectively capturing fraudulent transactions.\n",
        "\n",
        "- **Collaborative Efforts for Robust Security**: Fostering collaboration across card issuers, merchants, and security technology providers is essential for developing comprehensive, multi-faceted security strategies. Sharing insights and best practices will strengthen defense mechanisms against fraud."
      ],
      "metadata": {
        "id": "XO66vVuMPknz"
      }
    },
    {
      "cell_type": "markdown",
      "source": [
        "By implementing these strategies, we aim to not only enhance the current fraud detection capabilities but also prepare them to adeptly counter the evolving tactics of fraudsters, ensuring the sustained security and integrity of digital financial transactions. This proactive and informed approach protects business assets and maintains customer trust."
      ],
      "metadata": {
        "id": "D6_m0kBl1SAD"
      }
    }
  ]
}